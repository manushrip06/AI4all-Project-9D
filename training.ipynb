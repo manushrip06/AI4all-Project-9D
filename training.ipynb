{
 "cells": [
  {
   "cell_type": "code",
   "execution_count": 1,
   "id": "cc51c55b",
   "metadata": {},
   "outputs": [],
   "source": [
    "import pandas as pd\n",
    "from sklearn.tree import DecisionTreeClassifier\n",
    "from sklearn.model_selection import train_test_split\n",
    "from sklearn.metrics import accuracy_score\n",
    "from sklearn.preprocessing import LabelEncoder\n",
    "from sklearn.ensemble import RandomForestClassifier\n",
    "import xgboost as xgb\n",
    "from sklearn.ensemble import HistGradientBoostingClassifier\n",
    "from sklearn.ensemble import GradientBoostingClassifier\n",
    "from sklearn.svm import SVC\n",
    "\n",
    "import torch\n",
    "import torch.nn as nn\n",
    "import torch.utils\n",
    "import torchvision\n",
    "import torchvision.transforms as transforms\n",
    "import matplotlib.pyplot as plt\n",
    "import numpy as np\n"
   ]
  },
  {
   "cell_type": "code",
   "execution_count": null,
   "id": "cedf1178",
   "metadata": {},
   "outputs": [],
   "source": [
    "df = pd.read_csv('data.csv')\n",
    "#df_sampled = df.sample(frac=0.1, random_state=42)\n",
    "encoder = LabelEncoder()\n",
    "#df[\"city\"] = LabelEncoder().fit_transform(df[\"city\"])\n",
    "#df[\"location_area\"] = LabelEncoder().fit_transform(df[\"location_area\"])\n",
    "df[\"offense_category_name\"] = encoder.fit_transform(df[\"offense_category_name\"] )\n",
    "\n",
    "#X = df[[\"city\",\"location_area\",\"location_area\",\"population\"]]\n",
    "#y = df[\"offense_category_name\"]\n",
    "\n",
    "X = pd.get_dummies(df.drop(columns=[\"offense_category_name\",\"date\",\"offense_name\"]),columns =[\"city\",\"location_area\"],drop_first= True)\n",
    "X = X.astype(float)\n",
    "y = df[\"offense_category_name\"]\n",
    "\n",
    "print(X.dtypes)  # Check data types\n",
    "print(X.isnull().sum())  # Check for missing values"
   ]
  },
  {
   "cell_type": "code",
   "execution_count": null,
   "id": "43a3ac74",
   "metadata": {},
   "outputs": [],
   "source": [
    "X_train, X_test, y_train, y_test = train_test_split(X, y, test_size=0.2, random_state=42) # Try changing the test_size parameter!!\n",
    "\n",
    "print(f\"X_train shape: {X_train.shape}\")\n",
    "print(f\"X_test shape: {X_test.shape}\")\n",
    "\n",
    "# Train the Decision Tree classifier\n",
    "clf = RandomForestClassifier(n_estimators=100,  criterion='entropy', max_depth=20,\n",
    "                             min_samples_split=0.01, min_samples_leaf=4, min_weight_fraction_leaf=0.0, max_features='sqrt',\n",
    "                             max_leaf_nodes=None, min_impurity_decrease=0.0, bootstrap=True, oob_score=False,\n",
    "                             n_jobs=None, random_state=42, verbose=0, warm_start=False, class_weight=None,\n",
    "                             ccp_alpha=0.0001, max_samples=None, monotonic_cst=None)\n",
    "\n",
    "clf.fit(X_train, y_train)\n",
    "\n",
    "# Make predictions on the test set\n",
    "y_pred = clf.predict(X_test)\n",
    "y_results = encoder.inverse_transform(y_pred)\n",
    "print(y_results)\n",
    "# Evaluate the model\n",
    "accuracy = accuracy_score(y_test, y_pred)\n",
    "print(f\"Accuracy: \\n{accuracy*100:.2f}% \\n\")"
   ]
  },
  {
   "cell_type": "code",
   "execution_count": 7,
   "id": "53aaec03",
   "metadata": {},
   "outputs": [
    {
     "name": "stdout",
     "output_type": "stream",
     "text": [
      "['Drug/Narcotic Offenses' 'Drug/Narcotic Offenses'\n",
      " 'Drug/Narcotic Offenses' ... 'Drug/Narcotic Offenses'\n",
      " 'Drug/Narcotic Offenses' 'Drug/Narcotic Offenses']\n",
      "Accuracy: \n",
      "38.57% \n",
      "\n"
     ]
    }
   ],
   "source": [
    "X_train, X_test, y_train, y_test = train_test_split(X, y, test_size=0.2, random_state=42) # Try changing the test_size parameter!!\n",
    "\n",
    "clf =  LinearSVC(max_iter=2000)\n",
    "clf.fit(X_train, y_train)\n",
    "\n",
    "\n",
    "# Make predictions on the test set\n",
    "y_pred = clf.predict(X_test)\n",
    "y_results = encoder.inverse_transform(y_pred)\n",
    "print(y_results)\n",
    "accuracy = accuracy_score(y_test, y_pred)\n",
    "print(f\"Accuracy: \\n{accuracy*100:.2f}% \\n\")\n"
   ]
  },
  {
   "cell_type": "code",
   "execution_count": 6,
   "id": "6720b574",
   "metadata": {},
   "outputs": [
    {
     "name": "stdout",
     "output_type": "stream",
     "text": [
      "X_train shape: (31849, 151)\n",
      "X_test shape: (3539, 151)\n"
     ]
    },
    {
     "name": "stderr",
     "output_type": "stream",
     "text": [
      "c:\\Users\\manup\\miniconda3\\Lib\\site-packages\\xgboost\\training.py:183: UserWarning: [15:50:30] WARNING: C:\\actions-runner\\_work\\xgboost\\xgboost\\src\\learner.cc:738: \n",
      "Parameters: { \"use_label_encoder\" } are not used.\n",
      "\n",
      "  bst.update(dtrain, iteration=i, fobj=obj)\n"
     ]
    },
    {
     "name": "stdout",
     "output_type": "stream",
     "text": [
      "['Counterfeiting/Forgery' 'Counterfeiting/Forgery' 'Assault Offenses' ...\n",
      " 'Drug/Narcotic Offenses' 'Drug/Narcotic Offenses' 'Weapon Law Violations']\n",
      "Accuracy: \n",
      "69.54% \n",
      "\n"
     ]
    }
   ],
   "source": [
    "X_train, X_test, y_train, y_test = train_test_split(X, y, test_size=0.1, random_state=42) # Try changing the test_size parameter!!\n",
    "\n",
    "print(f\"X_train shape: {X_train.shape}\")\n",
    "print(f\"X_test shape: {X_test.shape}\")\n",
    "\n",
    "clf = xgb.XGBClassifier(use_label_encoder=False, eval_metric='logloss')\n",
    "clf.fit(X_train, y_train)\n",
    "\n",
    "# Make predictions on the test set\n",
    "y_pred = clf.predict(X_test)\n",
    "y_results = encoder.inverse_transform(y_pred)\n",
    "print(y_results)\n",
    "accuracy = accuracy_score(y_test, y_pred)\n",
    "print(f\"Accuracy: \\n{accuracy*100:.2f}% \\n\")"
   ]
  },
  {
   "cell_type": "code",
   "execution_count": null,
   "id": "a9319776",
   "metadata": {},
   "outputs": [
    {
     "name": "stdout",
     "output_type": "stream",
     "text": [
      "['Counterfeiting/Forgery' 'Counterfeiting/Forgery' 'Assault Offenses' ...\n",
      " 'Drug/Narcotic Offenses' 'Drug/Narcotic Offenses'\n",
      " 'Drug/Narcotic Offenses']\n",
      "Accuracy: \n",
      "65.58% \n",
      "\n"
     ]
    },
    {
     "ename": "",
     "evalue": "",
     "output_type": "error",
     "traceback": [
      "\u001b[1;31mThe Kernel crashed while executing code in the current cell or a previous cell. \n",
      "\u001b[1;31mPlease review the code in the cell(s) to identify a possible cause of the failure. \n",
      "\u001b[1;31mClick <a href='https://aka.ms/vscodeJupyterKernelCrash'>here</a> for more info. \n",
      "\u001b[1;31mView Jupyter <a href='command:jupyter.viewOutput'>log</a> for further details."
     ]
    }
   ],
   "source": [
    "X_train, X_test, y_train, y_test = train_test_split(X, y, test_size=0.2, random_state=42) # Try changing the test_size parameter!!\n",
    "\n",
    "clf = HistGradientBoostingClassifier( random_state=42)\n",
    "clf.fit(X_train, y_train)\n",
    "\n",
    "\n",
    "# Make predictions on the test set\n",
    "y_pred = clf.predict(X_test)\n",
    "y_results = encoder.inverse_transform(y_pred)\n",
    "print(y_results)\n",
    "accuracy = accuracy_score(y_test, y_pred)\n",
    "print(f\"Accuracy: \\n{accuracy*100:.2f}% \\n\")"
   ]
  },
  {
   "cell_type": "code",
   "execution_count": null,
   "id": "9e47acdf",
   "metadata": {},
   "outputs": [],
   "source": [
    "X_train, X_test, y_train, y_test = train_test_split(X, y, test_size=0.2, random_state=42) # Try changing the test_size parameter!!\n",
    "\n",
    "clf = GradientBoostingClassifier(loss='log_loss', learning_rate=0.2, n_estimators=100, subsample=1.0, criterion='friedman_mse', min_samples_split=2, min_samples_leaf=1, min_weight_fraction_leaf=0.0, max_depth=3, min_impurity_decrease=0.0, init=None, random_state=None, max_features=None, verbose=0, max_leaf_nodes=None, warm_start=False, validation_fraction=0.1, n_iter_no_change=None, tol=0.0001, ccp_alpha=0.0)\n",
    "clf.fit(X_train, y_train)\n",
    "\n",
    "\n",
    "# Make predictions on the test set\n",
    "y_pred = clf.predict(X_test)\n",
    "y_results = encoder.inverse_transform(y_pred)\n",
    "print(y_results)\n",
    "accuracy = accuracy_score(y_test, y_pred)\n",
    "print(f\"Accuracy: \\n{accuracy*100:.2f}% \\n\")"
   ]
  }
 ],
 "metadata": {
  "kernelspec": {
   "display_name": "base",
   "language": "python",
   "name": "python3"
  },
  "language_info": {
   "codemirror_mode": {
    "name": "ipython",
    "version": 3
   },
   "file_extension": ".py",
   "mimetype": "text/x-python",
   "name": "python",
   "nbconvert_exporter": "python",
   "pygments_lexer": "ipython3",
   "version": "3.12.4"
  }
 },
 "nbformat": 4,
 "nbformat_minor": 5
}
