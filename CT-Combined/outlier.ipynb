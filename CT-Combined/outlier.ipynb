{
 "cells": [
  {
   "cell_type": "code",
   "execution_count": 84,
   "id": "a3a1fb2f",
   "metadata": {},
   "outputs": [],
   "source": [
    "import pandas as pd\n",
    "from scipy.stats import zscore\n",
    "import numpy as np\n",
    "\n",
    "df = pd.read_csv(\"combined_data.csv\")"
   ]
  },
  {
   "cell_type": "code",
   "execution_count": 85,
   "id": "dce9e85b",
   "metadata": {},
   "outputs": [
    {
     "name": "stdout",
     "output_type": "stream",
     "text": [
      "year\n",
      "incident_hour\n",
      "city\n",
      "population\n",
      "offense_category_name\n",
      "criminal_act_name\n",
      "location_area\n"
     ]
    }
   ],
   "source": [
    "columns = df.columns.tolist()\n",
    "for i in columns:\n",
    "    print(i)"
   ]
  },
  {
   "cell_type": "code",
   "execution_count": 86,
   "id": "a7346310",
   "metadata": {},
   "outputs": [
    {
     "data": {
      "text/plain": [
       "count                      33302\n",
       "unique                        12\n",
       "top       Drug/Narcotic Offenses\n",
       "freq                       12127\n",
       "Name: offense_category_name, dtype: object"
      ]
     },
     "execution_count": 86,
     "metadata": {},
     "output_type": "execute_result"
    }
   ],
   "source": [
    "df['offense_category_name'].describe()"
   ]
  },
  {
   "cell_type": "code",
   "execution_count": 87,
   "id": "4cca79e9",
   "metadata": {},
   "outputs": [],
   "source": [
    "features_considered = ['year', 'incident_hour', 'population']\n",
    "z_scores = zscore(df[features_considered], nan_policy='omit')"
   ]
  },
  {
   "cell_type": "code",
   "execution_count": 88,
   "id": "d494da5c",
   "metadata": {},
   "outputs": [],
   "source": [
    "z_scores_df = pd.DataFrame(z_scores, columns=features_considered)\n"
   ]
  },
  {
   "cell_type": "code",
   "execution_count": 89,
   "id": "f9802f5d",
   "metadata": {},
   "outputs": [
    {
     "data": {
      "text/html": [
       "<div>\n",
       "<style scoped>\n",
       "    .dataframe tbody tr th:only-of-type {\n",
       "        vertical-align: middle;\n",
       "    }\n",
       "\n",
       "    .dataframe tbody tr th {\n",
       "        vertical-align: top;\n",
       "    }\n",
       "\n",
       "    .dataframe thead th {\n",
       "        text-align: right;\n",
       "    }\n",
       "</style>\n",
       "<table border=\"1\" class=\"dataframe\">\n",
       "  <thead>\n",
       "    <tr style=\"text-align: right;\">\n",
       "      <th></th>\n",
       "      <th>year</th>\n",
       "      <th>incident_hour</th>\n",
       "      <th>population</th>\n",
       "    </tr>\n",
       "  </thead>\n",
       "  <tbody>\n",
       "    <tr>\n",
       "      <th>0</th>\n",
       "      <td>-0.984505</td>\n",
       "      <td>0.760692</td>\n",
       "      <td>-1.583412</td>\n",
       "    </tr>\n",
       "    <tr>\n",
       "      <th>1</th>\n",
       "      <td>-0.984505</td>\n",
       "      <td>-0.175194</td>\n",
       "      <td>-1.473851</td>\n",
       "    </tr>\n",
       "    <tr>\n",
       "      <th>2</th>\n",
       "      <td>-0.984505</td>\n",
       "      <td>-0.175194</td>\n",
       "      <td>-1.442791</td>\n",
       "    </tr>\n",
       "    <tr>\n",
       "      <th>3</th>\n",
       "      <td>-0.984505</td>\n",
       "      <td>-0.955099</td>\n",
       "      <td>-1.442791</td>\n",
       "    </tr>\n",
       "    <tr>\n",
       "      <th>4</th>\n",
       "      <td>-0.984505</td>\n",
       "      <td>1.072654</td>\n",
       "      <td>-1.442791</td>\n",
       "    </tr>\n",
       "  </tbody>\n",
       "</table>\n",
       "</div>"
      ],
      "text/plain": [
       "       year  incident_hour  population\n",
       "0 -0.984505       0.760692   -1.583412\n",
       "1 -0.984505      -0.175194   -1.473851\n",
       "2 -0.984505      -0.175194   -1.442791\n",
       "3 -0.984505      -0.955099   -1.442791\n",
       "4 -0.984505       1.072654   -1.442791"
      ]
     },
     "execution_count": 89,
     "metadata": {},
     "output_type": "execute_result"
    }
   ],
   "source": [
    "z_scores_df.head()"
   ]
  },
  {
   "cell_type": "code",
   "execution_count": 90,
   "id": "de30c165",
   "metadata": {},
   "outputs": [],
   "source": [
    "# convert to absolute values\n",
    "abs_z_scores = np.abs(z_scores)\n",
    "# filter based on |z-score| less than 3\n",
    "filtered_entries = (abs_z_scores < 3).all(axis=1) & df['offense_category_name'].notna()\n"
   ]
  },
  {
   "cell_type": "code",
   "execution_count": 91,
   "id": "34f8b9d5",
   "metadata": {},
   "outputs": [
    {
     "data": {
      "text/plain": [
       "0        True\n",
       "1        True\n",
       "2        True\n",
       "3        True\n",
       "4        True\n",
       "         ... \n",
       "33297    True\n",
       "33298    True\n",
       "33299    True\n",
       "33300    True\n",
       "33301    True\n",
       "Name: offense_category_name, Length: 33302, dtype: bool"
      ]
     },
     "execution_count": 91,
     "metadata": {},
     "output_type": "execute_result"
    }
   ],
   "source": [
    "filtered_entries"
   ]
  },
  {
   "cell_type": "code",
   "execution_count": 92,
   "id": "f800637a",
   "metadata": {},
   "outputs": [
    {
     "name": "stdout",
     "output_type": "stream",
     "text": [
      "Number of outliers: 0\n",
      "Empty DataFrame\n",
      "Columns: [year, incident_hour, city, population, offense_category_name, criminal_act_name, location_area]\n",
      "Index: []\n"
     ]
    }
   ],
   "source": [
    "print(\"Number of outliers:\", (~filtered_entries).sum())\n",
    "print(df.loc[~filtered_entries])\n"
   ]
  },
  {
   "cell_type": "code",
   "execution_count": 93,
   "id": "de13051d",
   "metadata": {},
   "outputs": [
    {
     "name": "stdout",
     "output_type": "stream",
     "text": [
      "Number of rows before filtering outliers 33302\n",
      "Number of rows after filtering outliers 33302\n"
     ]
    },
    {
     "data": {
      "text/html": [
       "<div>\n",
       "<style scoped>\n",
       "    .dataframe tbody tr th:only-of-type {\n",
       "        vertical-align: middle;\n",
       "    }\n",
       "\n",
       "    .dataframe tbody tr th {\n",
       "        vertical-align: top;\n",
       "    }\n",
       "\n",
       "    .dataframe thead th {\n",
       "        text-align: right;\n",
       "    }\n",
       "</style>\n",
       "<table border=\"1\" class=\"dataframe\">\n",
       "  <thead>\n",
       "    <tr style=\"text-align: right;\">\n",
       "      <th></th>\n",
       "      <th>year</th>\n",
       "      <th>incident_hour</th>\n",
       "      <th>city</th>\n",
       "      <th>population</th>\n",
       "      <th>offense_category_name</th>\n",
       "      <th>criminal_act_name</th>\n",
       "      <th>location_area</th>\n",
       "    </tr>\n",
       "  </thead>\n",
       "  <tbody>\n",
       "    <tr>\n",
       "      <th>0</th>\n",
       "      <td>2022</td>\n",
       "      <td>18</td>\n",
       "      <td>Ledyard</td>\n",
       "      <td>15340</td>\n",
       "      <td>Animal Cruelty</td>\n",
       "      <td>Intentional Abuse and Torture</td>\n",
       "      <td>Drug Store/Doctor's Office/Hospital</td>\n",
       "    </tr>\n",
       "    <tr>\n",
       "      <th>1</th>\n",
       "      <td>2022</td>\n",
       "      <td>12</td>\n",
       "      <td>Berlin</td>\n",
       "      <td>20109</td>\n",
       "      <td>Animal Cruelty</td>\n",
       "      <td>Intentional Abuse and Torture</td>\n",
       "      <td>Residence/Home</td>\n",
       "    </tr>\n",
       "    <tr>\n",
       "      <th>2</th>\n",
       "      <td>2022</td>\n",
       "      <td>12</td>\n",
       "      <td>Bloomfield</td>\n",
       "      <td>21461</td>\n",
       "      <td>Animal Cruelty</td>\n",
       "      <td>Simple/Gross Neglect</td>\n",
       "      <td>Farm Facility</td>\n",
       "    </tr>\n",
       "    <tr>\n",
       "      <th>3</th>\n",
       "      <td>2022</td>\n",
       "      <td>7</td>\n",
       "      <td>Bloomfield</td>\n",
       "      <td>21461</td>\n",
       "      <td>Animal Cruelty</td>\n",
       "      <td>Simple/Gross Neglect</td>\n",
       "      <td>Residence/Home</td>\n",
       "    </tr>\n",
       "    <tr>\n",
       "      <th>4</th>\n",
       "      <td>2022</td>\n",
       "      <td>20</td>\n",
       "      <td>Bloomfield</td>\n",
       "      <td>21461</td>\n",
       "      <td>Animal Cruelty</td>\n",
       "      <td>Intentional Abuse and Torture</td>\n",
       "      <td>Residence/Home</td>\n",
       "    </tr>\n",
       "  </tbody>\n",
       "</table>\n",
       "</div>"
      ],
      "text/plain": [
       "   year  incident_hour        city  population offense_category_name  \\\n",
       "0  2022             18     Ledyard       15340        Animal Cruelty   \n",
       "1  2022             12      Berlin       20109        Animal Cruelty   \n",
       "2  2022             12  Bloomfield       21461        Animal Cruelty   \n",
       "3  2022              7  Bloomfield       21461        Animal Cruelty   \n",
       "4  2022             20  Bloomfield       21461        Animal Cruelty   \n",
       "\n",
       "               criminal_act_name                        location_area  \n",
       "0  Intentional Abuse and Torture  Drug Store/Doctor's Office/Hospital  \n",
       "1  Intentional Abuse and Torture                       Residence/Home  \n",
       "2           Simple/Gross Neglect                        Farm Facility  \n",
       "3           Simple/Gross Neglect                       Residence/Home  \n",
       "4  Intentional Abuse and Torture                       Residence/Home  "
      ]
     },
     "execution_count": 93,
     "metadata": {},
     "output_type": "execute_result"
    }
   ],
   "source": [
    "print('Number of rows before filtering outliers', len(df))\n",
    "df_without_outliers = df[filtered_entries]\n",
    "print('Number of rows after filtering outliers', len(df_without_outliers))\n",
    "df_without_outliers.head()"
   ]
  },
  {
   "cell_type": "code",
   "execution_count": 94,
   "id": "3f51c516",
   "metadata": {},
   "outputs": [
    {
     "data": {
      "text/plain": [
       "city\n",
       "New Britain    220\n",
       "Hartford       172\n",
       "Stamford       153\n",
       "New Haven      150\n",
       "Waterbury       85\n",
       "              ... \n",
       "Stonington       1\n",
       "Torrington       1\n",
       "Glastonbury      1\n",
       "Suffield         1\n",
       "Wilton           1\n",
       "Name: count, Length: 65, dtype: int64"
      ]
     },
     "execution_count": 94,
     "metadata": {},
     "output_type": "execute_result"
    }
   ],
   "source": [
    "df.loc[z_scores_df['incident_hour'].abs() > 2]['city'].value_counts()\n"
   ]
  },
  {
   "cell_type": "code",
   "execution_count": 98,
   "id": "f57d3f99",
   "metadata": {},
   "outputs": [
    {
     "name": "stdout",
     "output_type": "stream",
     "text": [
      "\n"
     ]
    }
   ],
   "source": [
    "df_without_outliers.drop(columns=[\"population\"], inplace=True)\n",
    "df_without_outliers.to_csv(\"combined_data.csv\", index=False)\n",
    "print()"
   ]
  },
  {
   "cell_type": "code",
   "execution_count": 99,
   "id": "33e07fd4",
   "metadata": {},
   "outputs": [
    {
     "data": {
      "text/html": [
       "<div>\n",
       "<style scoped>\n",
       "    .dataframe tbody tr th:only-of-type {\n",
       "        vertical-align: middle;\n",
       "    }\n",
       "\n",
       "    .dataframe tbody tr th {\n",
       "        vertical-align: top;\n",
       "    }\n",
       "\n",
       "    .dataframe thead th {\n",
       "        text-align: right;\n",
       "    }\n",
       "</style>\n",
       "<table border=\"1\" class=\"dataframe\">\n",
       "  <thead>\n",
       "    <tr style=\"text-align: right;\">\n",
       "      <th></th>\n",
       "      <th>year</th>\n",
       "      <th>incident_hour</th>\n",
       "      <th>city</th>\n",
       "      <th>offense_category_name</th>\n",
       "      <th>criminal_act_name</th>\n",
       "      <th>location_area</th>\n",
       "    </tr>\n",
       "  </thead>\n",
       "  <tbody>\n",
       "    <tr>\n",
       "      <th>0</th>\n",
       "      <td>2022</td>\n",
       "      <td>18</td>\n",
       "      <td>Ledyard</td>\n",
       "      <td>Animal Cruelty</td>\n",
       "      <td>Intentional Abuse and Torture</td>\n",
       "      <td>Drug Store/Doctor's Office/Hospital</td>\n",
       "    </tr>\n",
       "    <tr>\n",
       "      <th>1</th>\n",
       "      <td>2022</td>\n",
       "      <td>12</td>\n",
       "      <td>Berlin</td>\n",
       "      <td>Animal Cruelty</td>\n",
       "      <td>Intentional Abuse and Torture</td>\n",
       "      <td>Residence/Home</td>\n",
       "    </tr>\n",
       "    <tr>\n",
       "      <th>2</th>\n",
       "      <td>2022</td>\n",
       "      <td>12</td>\n",
       "      <td>Bloomfield</td>\n",
       "      <td>Animal Cruelty</td>\n",
       "      <td>Simple/Gross Neglect</td>\n",
       "      <td>Farm Facility</td>\n",
       "    </tr>\n",
       "    <tr>\n",
       "      <th>3</th>\n",
       "      <td>2022</td>\n",
       "      <td>7</td>\n",
       "      <td>Bloomfield</td>\n",
       "      <td>Animal Cruelty</td>\n",
       "      <td>Simple/Gross Neglect</td>\n",
       "      <td>Residence/Home</td>\n",
       "    </tr>\n",
       "    <tr>\n",
       "      <th>4</th>\n",
       "      <td>2022</td>\n",
       "      <td>20</td>\n",
       "      <td>Bloomfield</td>\n",
       "      <td>Animal Cruelty</td>\n",
       "      <td>Intentional Abuse and Torture</td>\n",
       "      <td>Residence/Home</td>\n",
       "    </tr>\n",
       "    <tr>\n",
       "      <th>...</th>\n",
       "      <td>...</td>\n",
       "      <td>...</td>\n",
       "      <td>...</td>\n",
       "      <td>...</td>\n",
       "      <td>...</td>\n",
       "      <td>...</td>\n",
       "    </tr>\n",
       "    <tr>\n",
       "      <th>33297</th>\n",
       "      <td>2023</td>\n",
       "      <td>17</td>\n",
       "      <td>Groton Town</td>\n",
       "      <td>Weapon Law Violations</td>\n",
       "      <td>Possessing/Concealing</td>\n",
       "      <td>Parking/Drop Lot/Garage</td>\n",
       "    </tr>\n",
       "    <tr>\n",
       "      <th>33298</th>\n",
       "      <td>2023</td>\n",
       "      <td>19</td>\n",
       "      <td>Groton Town</td>\n",
       "      <td>Weapon Law Violations</td>\n",
       "      <td>Possessing/Concealing</td>\n",
       "      <td>Residence/Home</td>\n",
       "    </tr>\n",
       "    <tr>\n",
       "      <th>33299</th>\n",
       "      <td>2023</td>\n",
       "      <td>12</td>\n",
       "      <td>Mashantucket Pequot Tribal</td>\n",
       "      <td>Weapon Law Violations</td>\n",
       "      <td>Possessing/Concealing</td>\n",
       "      <td>Restaurant</td>\n",
       "    </tr>\n",
       "    <tr>\n",
       "      <th>33300</th>\n",
       "      <td>2023</td>\n",
       "      <td>1</td>\n",
       "      <td>Mashantucket Pequot Tribal</td>\n",
       "      <td>Weapon Law Violations</td>\n",
       "      <td>Using/Consuming</td>\n",
       "      <td>Parking/Drop Lot/Garage</td>\n",
       "    </tr>\n",
       "    <tr>\n",
       "      <th>33301</th>\n",
       "      <td>2023</td>\n",
       "      <td>22</td>\n",
       "      <td>Mohegan Tribal</td>\n",
       "      <td>Weapon Law Violations</td>\n",
       "      <td>Possessing/Concealing</td>\n",
       "      <td>Gambling Facility/Casino/Race Track</td>\n",
       "    </tr>\n",
       "  </tbody>\n",
       "</table>\n",
       "<p>33302 rows × 6 columns</p>\n",
       "</div>"
      ],
      "text/plain": [
       "       year  incident_hour                        city  offense_category_name  \\\n",
       "0      2022             18                     Ledyard         Animal Cruelty   \n",
       "1      2022             12                      Berlin         Animal Cruelty   \n",
       "2      2022             12                  Bloomfield         Animal Cruelty   \n",
       "3      2022              7                  Bloomfield         Animal Cruelty   \n",
       "4      2022             20                  Bloomfield         Animal Cruelty   \n",
       "...     ...            ...                         ...                    ...   \n",
       "33297  2023             17                 Groton Town  Weapon Law Violations   \n",
       "33298  2023             19                 Groton Town  Weapon Law Violations   \n",
       "33299  2023             12  Mashantucket Pequot Tribal  Weapon Law Violations   \n",
       "33300  2023              1  Mashantucket Pequot Tribal  Weapon Law Violations   \n",
       "33301  2023             22              Mohegan Tribal  Weapon Law Violations   \n",
       "\n",
       "                   criminal_act_name                        location_area  \n",
       "0      Intentional Abuse and Torture  Drug Store/Doctor's Office/Hospital  \n",
       "1      Intentional Abuse and Torture                       Residence/Home  \n",
       "2               Simple/Gross Neglect                        Farm Facility  \n",
       "3               Simple/Gross Neglect                       Residence/Home  \n",
       "4      Intentional Abuse and Torture                       Residence/Home  \n",
       "...                              ...                                  ...  \n",
       "33297          Possessing/Concealing              Parking/Drop Lot/Garage  \n",
       "33298          Possessing/Concealing                       Residence/Home  \n",
       "33299          Possessing/Concealing                           Restaurant  \n",
       "33300                Using/Consuming              Parking/Drop Lot/Garage  \n",
       "33301          Possessing/Concealing  Gambling Facility/Casino/Race Track  \n",
       "\n",
       "[33302 rows x 6 columns]"
      ]
     },
     "execution_count": 99,
     "metadata": {},
     "output_type": "execute_result"
    }
   ],
   "source": [
    "df_without_outliers"
   ]
  }
 ],
 "metadata": {
  "kernelspec": {
   "display_name": "Python (nyc)",
   "language": "python",
   "name": "nyc"
  },
  "language_info": {
   "codemirror_mode": {
    "name": "ipython",
    "version": 3
   },
   "file_extension": ".py",
   "mimetype": "text/x-python",
   "name": "python",
   "nbconvert_exporter": "python",
   "pygments_lexer": "ipython3",
   "version": "3.11.11"
  }
 },
 "nbformat": 4,
 "nbformat_minor": 5
}
