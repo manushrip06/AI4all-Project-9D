{
 "cells": [
  {
   "cell_type": "markdown",
   "id": "00c2acd1",
   "metadata": {},
   "source": [
    "##### Just combining the final dataset"
   ]
  },
  {
   "cell_type": "code",
   "execution_count": 11,
   "id": "e8736f90",
   "metadata": {},
   "outputs": [],
   "source": [
    "import pandas as pd\n",
    "\n",
    "a = pd.read_csv(\"../CT-2022/2022_merged_data.csv\")\n",
    "b = pd.read_csv(\"../CT-2023/2023_merged_data.csv\")\n",
    "c = pd.read_csv(\"../CT-2021/2021_merged_data.csv\")\n",
    "\n",
    "df = pd.concat([a, b, c], ignore_index=True)"
   ]
  },
  {
   "cell_type": "code",
   "execution_count": 12,
   "id": "b1c3b1e3",
   "metadata": {},
   "outputs": [],
   "source": [
    "test = df.isna().sum()\n",
    "for col, count in test.items():\n",
    "    if count != 0:\n",
    "        print(col, count)"
   ]
  },
  {
   "cell_type": "code",
   "execution_count": 13,
   "id": "97917468",
   "metadata": {},
   "outputs": [
    {
     "name": "stdout",
     "output_type": "stream",
     "text": [
      "<class 'pandas.core.frame.DataFrame'>\n",
      "RangeIndex: 52862 entries, 0 to 52861\n",
      "Data columns (total 17 columns):\n",
      " #   Column                          Non-Null Count  Dtype  \n",
      "---  ------                          --------------  -----  \n",
      " 0   year                            52862 non-null  int64  \n",
      " 1   agency_location                 52862 non-null  int64  \n",
      " 2   incident_date                   52862 non-null  object \n",
      " 3   incident_hour                   52862 non-null  int64  \n",
      " 4   agency_name                     52862 non-null  object \n",
      " 5   state                           52862 non-null  object \n",
      " 6   population                      52862 non-null  int64  \n",
      " 7   male_officer                    52862 non-null  float64\n",
      " 8   male_civilian                   52862 non-null  float64\n",
      " 9   male_officer+male_civilian      52862 non-null  float64\n",
      " 10  female_officer                  52862 non-null  float64\n",
      " 11  female_civilian                 52862 non-null  float64\n",
      " 12  female_officer+female_civilian  52862 non-null  float64\n",
      " 13  offense_name                    52862 non-null  object \n",
      " 14  offense_category_name           52862 non-null  object \n",
      " 15  criminal_act_name               52862 non-null  object \n",
      " 16  location_area                   52862 non-null  object \n",
      "dtypes: float64(6), int64(4), object(7)\n",
      "memory usage: 6.9+ MB\n"
     ]
    }
   ],
   "source": [
    "df.info()"
   ]
  },
  {
   "cell_type": "code",
   "execution_count": 14,
   "id": "ef919fb1",
   "metadata": {},
   "outputs": [],
   "source": [
    "df = df.drop(columns=[\n",
    "    'agency_location', 'state', 'male_officer', 'male_civilian',\n",
    "    'male_officer+male_civilian', 'female_officer', 'female_civilian',\n",
    "    'female_officer+female_civilian', 'offense_name'\n",
    "])\n",
    "df = df[(df['population'] != 0) & (~df['population'].isna())]\n",
    "\n",
    "df.rename(columns={'agency_name': 'city'}, inplace=True)\n",
    "df.rename(columns={'incident_date': 'date'}, inplace=True)\n",
    "df.rename(columns={'incident_hour': 'hour'}, inplace=True)\n",
    "df['date'] = pd.to_datetime(df['date'], errors='coerce')\n",
    "\n"
   ]
  },
  {
   "cell_type": "code",
   "execution_count": 15,
   "id": "25a31b08",
   "metadata": {},
   "outputs": [],
   "source": [
    "df.to_csv(\"combined_data.csv\", index=False)"
   ]
  }
 ],
 "metadata": {
  "kernelspec": {
   "display_name": "Python (nyc)",
   "language": "python",
   "name": "nyc"
  },
  "language_info": {
   "codemirror_mode": {
    "name": "ipython",
    "version": 3
   },
   "file_extension": ".py",
   "mimetype": "text/x-python",
   "name": "python",
   "nbconvert_exporter": "python",
   "pygments_lexer": "ipython3",
   "version": "3.11.11"
  }
 },
 "nbformat": 4,
 "nbformat_minor": 5
}
