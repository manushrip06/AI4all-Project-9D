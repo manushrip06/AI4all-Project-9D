{
 "cells": [
  {
   "cell_type": "code",
   "execution_count": 5,
   "id": "a3a1fb2f",
   "metadata": {},
   "outputs": [],
   "source": [
    "import pandas as pd\n",
    "from scipy.stats import zscore\n",
    "import numpy as np\n",
    "\n",
    "df = pd.read_csv(\"combined_data.csv\")"
   ]
  },
  {
   "cell_type": "code",
   "execution_count": 6,
   "id": "dce9e85b",
   "metadata": {},
   "outputs": [
    {
     "name": "stdout",
     "output_type": "stream",
     "text": [
      "year\n",
      "date\n",
      "hour\n",
      "city\n",
      "population\n",
      "offense_category_name\n",
      "criminal_act_name\n",
      "location_area\n"
     ]
    }
   ],
   "source": [
    "columns = df.columns.tolist()\n",
    "for i in columns:\n",
    "    print(i)"
   ]
  },
  {
   "cell_type": "code",
   "execution_count": 7,
   "id": "a7346310",
   "metadata": {},
   "outputs": [
    {
     "data": {
      "text/plain": [
       "count                      52712\n",
       "unique                        12\n",
       "top       Drug/Narcotic Offenses\n",
       "freq                       21347\n",
       "Name: offense_category_name, dtype: object"
      ]
     },
     "execution_count": 7,
     "metadata": {},
     "output_type": "execute_result"
    }
   ],
   "source": [
    "df['offense_category_name'].describe()"
   ]
  },
  {
   "cell_type": "code",
   "execution_count": 9,
   "id": "0d5be22d",
   "metadata": {},
   "outputs": [
    {
     "name": "stdout",
     "output_type": "stream",
     "text": [
      "<class 'pandas.core.frame.DataFrame'>\n",
      "RangeIndex: 52712 entries, 0 to 52711\n",
      "Data columns (total 8 columns):\n",
      " #   Column                 Non-Null Count  Dtype \n",
      "---  ------                 --------------  ----- \n",
      " 0   year                   52712 non-null  int64 \n",
      " 1   date                   52712 non-null  object\n",
      " 2   hour                   52712 non-null  int64 \n",
      " 3   city                   52712 non-null  object\n",
      " 4   population             52712 non-null  int64 \n",
      " 5   offense_category_name  52712 non-null  object\n",
      " 6   criminal_act_name      52712 non-null  object\n",
      " 7   location_area          52712 non-null  object\n",
      "dtypes: int64(3), object(5)\n",
      "memory usage: 3.2+ MB\n"
     ]
    }
   ],
   "source": [
    "df.info()"
   ]
  },
  {
   "cell_type": "code",
   "execution_count": null,
   "id": "4cca79e9",
   "metadata": {},
   "outputs": [
    {
     "ename": "TypeError",
     "evalue": "unsupported operand type(s) for /: 'str' and 'int'",
     "output_type": "error",
     "traceback": [
      "\u001b[31m---------------------------------------------------------------------------\u001b[39m",
      "\u001b[31mTypeError\u001b[39m                                 Traceback (most recent call last)",
      "\u001b[36mCell\u001b[39m\u001b[36m \u001b[39m\u001b[32mIn[8]\u001b[39m\u001b[32m, line 2\u001b[39m\n\u001b[32m      1\u001b[39m features_considered = [\u001b[33m'\u001b[39m\u001b[33myear\u001b[39m\u001b[33m'\u001b[39m, \u001b[33m'\u001b[39m\u001b[33mdate\u001b[39m\u001b[33m'\u001b[39m,\u001b[33m'\u001b[39m\u001b[33mhour\u001b[39m\u001b[33m'\u001b[39m, \u001b[33m'\u001b[39m\u001b[33mpopulation\u001b[39m\u001b[33m'\u001b[39m]\n\u001b[32m----> \u001b[39m\u001b[32m2\u001b[39m z_scores = zscore(df[features_considered], nan_policy=\u001b[33m'\u001b[39m\u001b[33momit\u001b[39m\u001b[33m'\u001b[39m)\n",
      "\u001b[36mFile \u001b[39m\u001b[32m/opt/anaconda3/envs/nyc/lib/python3.11/site-packages/scipy/stats/_stats_py.py:2723\u001b[39m, in \u001b[36mzscore\u001b[39m\u001b[34m(a, axis, ddof, nan_policy)\u001b[39m\n\u001b[32m   2641\u001b[39m \u001b[38;5;28;01mdef\u001b[39;00m\u001b[38;5;250m \u001b[39m\u001b[34mzscore\u001b[39m(a, axis=\u001b[32m0\u001b[39m, ddof=\u001b[32m0\u001b[39m, nan_policy=\u001b[33m'\u001b[39m\u001b[33mpropagate\u001b[39m\u001b[33m'\u001b[39m):\n\u001b[32m   2642\u001b[39m \u001b[38;5;250m    \u001b[39m\u001b[33;03m\"\"\"\u001b[39;00m\n\u001b[32m   2643\u001b[39m \u001b[33;03m    Compute the z score.\u001b[39;00m\n\u001b[32m   2644\u001b[39m \n\u001b[32m   (...)\u001b[39m\u001b[32m   2721\u001b[39m \u001b[33;03m           [-0.91611681, -0.89090508,  1.4983032 ,  0.88731639, -0.5785977 ]])\u001b[39;00m\n\u001b[32m   2722\u001b[39m \u001b[33;03m    \"\"\"\u001b[39;00m\n\u001b[32m-> \u001b[39m\u001b[32m2723\u001b[39m     \u001b[38;5;28;01mreturn\u001b[39;00m zmap(a, a, axis=axis, ddof=ddof, nan_policy=nan_policy)\n",
      "\u001b[36mFile \u001b[39m\u001b[32m/opt/anaconda3/envs/nyc/lib/python3.11/site-packages/scipy/stats/_stats_py.py:2882\u001b[39m, in \u001b[36mzmap\u001b[39m\u001b[34m(scores, compare, axis, ddof, nan_policy)\u001b[39m\n\u001b[32m   2879\u001b[39m     \u001b[38;5;28;01mif\u001b[39;00m like_zscore:  \u001b[38;5;66;03m# zscore should not emit SmallSampleWarning\u001b[39;00m\n\u001b[32m   2880\u001b[39m         warnings.simplefilter(\u001b[33m'\u001b[39m\u001b[33mignore\u001b[39m\u001b[33m'\u001b[39m, SmallSampleWarning)\n\u001b[32m-> \u001b[39m\u001b[32m2882\u001b[39m     mn = _xp_mean(compare, axis=axis, keepdims=\u001b[38;5;28;01mTrue\u001b[39;00m, nan_policy=nan_policy)\n\u001b[32m   2883\u001b[39m     std = _xp_var(compare, axis=axis, correction=ddof,\n\u001b[32m   2884\u001b[39m                   keepdims=\u001b[38;5;28;01mTrue\u001b[39;00m, nan_policy=nan_policy)**\u001b[32m0.5\u001b[39m\n\u001b[32m   2886\u001b[39m \u001b[38;5;28;01mwith\u001b[39;00m np.errstate(invalid=\u001b[33m'\u001b[39m\u001b[33mignore\u001b[39m\u001b[33m'\u001b[39m, divide=\u001b[33m'\u001b[39m\u001b[33mignore\u001b[39m\u001b[33m'\u001b[39m):\n",
      "\u001b[36mFile \u001b[39m\u001b[32m/opt/anaconda3/envs/nyc/lib/python3.11/site-packages/scipy/stats/_stats_py.py:10881\u001b[39m, in \u001b[36m_xp_mean\u001b[39m\u001b[34m(x, axis, weights, keepdims, nan_policy, dtype, xp)\u001b[39m\n\u001b[32m  10879\u001b[39m \u001b[38;5;66;03m# Perform the mean calculation itself\u001b[39;00m\n\u001b[32m  10880\u001b[39m \u001b[38;5;28;01mif\u001b[39;00m weights \u001b[38;5;129;01mis\u001b[39;00m \u001b[38;5;28;01mNone\u001b[39;00m:\n\u001b[32m> \u001b[39m\u001b[32m10881\u001b[39m     \u001b[38;5;28;01mreturn\u001b[39;00m xp.mean(x, axis=axis, keepdims=keepdims)\n\u001b[32m  10883\u001b[39m norm = xp.sum(weights, axis=axis)\n\u001b[32m  10884\u001b[39m wsum = xp.sum(x * weights, axis=axis)\n",
      "\u001b[36mFile \u001b[39m\u001b[32m/opt/anaconda3/envs/nyc/lib/python3.11/site-packages/numpy/_core/fromnumeric.py:3596\u001b[39m, in \u001b[36mmean\u001b[39m\u001b[34m(a, axis, dtype, out, keepdims, where)\u001b[39m\n\u001b[32m   3593\u001b[39m     \u001b[38;5;28;01melse\u001b[39;00m:\n\u001b[32m   3594\u001b[39m         \u001b[38;5;28;01mreturn\u001b[39;00m mean(axis=axis, dtype=dtype, out=out, **kwargs)\n\u001b[32m-> \u001b[39m\u001b[32m3596\u001b[39m \u001b[38;5;28;01mreturn\u001b[39;00m _methods._mean(a, axis=axis, dtype=dtype,\n\u001b[32m   3597\u001b[39m                       out=out, **kwargs)\n",
      "\u001b[36mFile \u001b[39m\u001b[32m/opt/anaconda3/envs/nyc/lib/python3.11/site-packages/numpy/_core/_methods.py:130\u001b[39m, in \u001b[36m_mean\u001b[39m\u001b[34m(a, axis, dtype, out, keepdims, where)\u001b[39m\n\u001b[32m    128\u001b[39m \u001b[38;5;28;01mif\u001b[39;00m \u001b[38;5;28misinstance\u001b[39m(ret, mu.ndarray):\n\u001b[32m    129\u001b[39m     \u001b[38;5;28;01mwith\u001b[39;00m _no_nep50_warning():\n\u001b[32m--> \u001b[39m\u001b[32m130\u001b[39m         ret = um.true_divide(\n\u001b[32m    131\u001b[39m                 ret, rcount, out=ret, casting=\u001b[33m'\u001b[39m\u001b[33munsafe\u001b[39m\u001b[33m'\u001b[39m, subok=\u001b[38;5;28;01mFalse\u001b[39;00m)\n\u001b[32m    132\u001b[39m     \u001b[38;5;28;01mif\u001b[39;00m is_float16_result \u001b[38;5;129;01mand\u001b[39;00m out \u001b[38;5;129;01mis\u001b[39;00m \u001b[38;5;28;01mNone\u001b[39;00m:\n\u001b[32m    133\u001b[39m         ret = arr.dtype.type(ret)\n",
      "\u001b[31mTypeError\u001b[39m: unsupported operand type(s) for /: 'str' and 'int'"
     ]
    }
   ],
   "source": [
    "features_considered = ['year','hour', 'population']\n",
    "z_scores = zscore(df[features_considered], nan_policy='omit')"
   ]
  },
  {
   "cell_type": "markdown",
   "id": "b6e62f96",
   "metadata": {},
   "source": []
  },
  {
   "cell_type": "code",
   "execution_count": null,
   "id": "d494da5c",
   "metadata": {},
   "outputs": [],
   "source": [
    "z_scores_df = pd.DataFrame(z_scores, columns=features_considered)\n"
   ]
  },
  {
   "cell_type": "code",
   "execution_count": null,
   "id": "f9802f5d",
   "metadata": {},
   "outputs": [
    {
     "data": {
      "text/html": [
       "<div>\n",
       "<style scoped>\n",
       "    .dataframe tbody tr th:only-of-type {\n",
       "        vertical-align: middle;\n",
       "    }\n",
       "\n",
       "    .dataframe tbody tr th {\n",
       "        vertical-align: top;\n",
       "    }\n",
       "\n",
       "    .dataframe thead th {\n",
       "        text-align: right;\n",
       "    }\n",
       "</style>\n",
       "<table border=\"1\" class=\"dataframe\">\n",
       "  <thead>\n",
       "    <tr style=\"text-align: right;\">\n",
       "      <th></th>\n",
       "      <th>year</th>\n",
       "      <th>incident_hour</th>\n",
       "      <th>population</th>\n",
       "    </tr>\n",
       "  </thead>\n",
       "  <tbody>\n",
       "    <tr>\n",
       "      <th>0</th>\n",
       "      <td>0.001215</td>\n",
       "      <td>0.748509</td>\n",
       "      <td>-0.813629</td>\n",
       "    </tr>\n",
       "    <tr>\n",
       "      <th>1</th>\n",
       "      <td>0.001215</td>\n",
       "      <td>-0.340818</td>\n",
       "      <td>-0.813629</td>\n",
       "    </tr>\n",
       "    <tr>\n",
       "      <th>2</th>\n",
       "      <td>0.001215</td>\n",
       "      <td>-0.185200</td>\n",
       "      <td>-0.813629</td>\n",
       "    </tr>\n",
       "    <tr>\n",
       "      <th>3</th>\n",
       "      <td>0.001215</td>\n",
       "      <td>0.281655</td>\n",
       "      <td>-0.813629</td>\n",
       "    </tr>\n",
       "    <tr>\n",
       "      <th>4</th>\n",
       "      <td>0.001215</td>\n",
       "      <td>0.281655</td>\n",
       "      <td>-0.813629</td>\n",
       "    </tr>\n",
       "  </tbody>\n",
       "</table>\n",
       "</div>"
      ],
      "text/plain": [
       "       year  incident_hour  population\n",
       "0  0.001215       0.748509   -0.813629\n",
       "1  0.001215      -0.340818   -0.813629\n",
       "2  0.001215      -0.185200   -0.813629\n",
       "3  0.001215       0.281655   -0.813629\n",
       "4  0.001215       0.281655   -0.813629"
      ]
     },
     "execution_count": 6,
     "metadata": {},
     "output_type": "execute_result"
    }
   ],
   "source": [
    "z_scores_df.head()"
   ]
  },
  {
   "cell_type": "code",
   "execution_count": null,
   "id": "de30c165",
   "metadata": {},
   "outputs": [],
   "source": [
    "# convert to absolute values\n",
    "abs_z_scores = np.abs(z_scores)\n",
    "# filter based on |z-score| less than 3\n",
    "filtered_entries = (abs_z_scores < 3).all(axis=1) & df['offense_category_name'].notna()\n"
   ]
  },
  {
   "cell_type": "code",
   "execution_count": null,
   "id": "34f8b9d5",
   "metadata": {},
   "outputs": [
    {
     "data": {
      "text/plain": [
       "0         True\n",
       "1         True\n",
       "2         True\n",
       "3         True\n",
       "4         True\n",
       "         ...  \n",
       "52707    False\n",
       "52708    False\n",
       "52709    False\n",
       "52710    False\n",
       "52711    False\n",
       "Name: offense_category_name, Length: 52712, dtype: bool"
      ]
     },
     "execution_count": 8,
     "metadata": {},
     "output_type": "execute_result"
    }
   ],
   "source": [
    "filtered_entries"
   ]
  },
  {
   "cell_type": "code",
   "execution_count": null,
   "id": "f800637a",
   "metadata": {},
   "outputs": [
    {
     "name": "stdout",
     "output_type": "stream",
     "text": [
      "Number of outliers: 3365\n",
      "       year incident_date  incident_hour                      city  \\\n",
      "16864  2022    2022-01-03              8  Connecticut State Police   \n",
      "16865  2022    2022-01-03             12  Connecticut State Police   \n",
      "16866  2022    2022-01-04             11  Connecticut State Police   \n",
      "16867  2022    2022-01-04             11  Connecticut State Police   \n",
      "16868  2022    2022-01-04             19  Connecticut State Police   \n",
      "...     ...           ...            ...                       ...   \n",
      "52707  2021    2021-12-30             19  Connecticut State Police   \n",
      "52708  2021    2021-12-30             19  Connecticut State Police   \n",
      "52709  2021    2021-12-30             20  Connecticut State Police   \n",
      "52710  2021    2021-12-30             20  Connecticut State Police   \n",
      "52711  2021    2021-07-02              0  Connecticut State Police   \n",
      "\n",
      "       population   offense_category_name  \\\n",
      "16864      509306  Drug/Narcotic Offenses   \n",
      "16865      509306  Drug/Narcotic Offenses   \n",
      "16866      509306  Drug/Narcotic Offenses   \n",
      "16867      509306  Drug/Narcotic Offenses   \n",
      "16868      509306  Drug/Narcotic Offenses   \n",
      "...           ...                     ...   \n",
      "52707      543228  Drug/Narcotic Offenses   \n",
      "52708      543228  Drug/Narcotic Offenses   \n",
      "52709      543228  Drug/Narcotic Offenses   \n",
      "52710      543228  Drug/Narcotic Offenses   \n",
      "52711      543228  Counterfeiting/Forgery   \n",
      "\n",
      "                          criminal_act_name  \\\n",
      "16864                  Distributing/Selling   \n",
      "16865                 Possessing/Concealing   \n",
      "16866                 Possessing/Concealing   \n",
      "16867                       Using/Consuming   \n",
      "16868                  Distributing/Selling   \n",
      "...                                     ...   \n",
      "52707                 Possessing/Concealing   \n",
      "52708                 Possessing/Concealing   \n",
      "52709                  Distributing/Selling   \n",
      "52710                  Distributing/Selling   \n",
      "52711  Cultivating/Manufacturing/Publishing   \n",
      "\n",
      "                            location_area  \n",
      "16864                 Service/Gas Station  \n",
      "16865         School-Elementary/Secondary  \n",
      "16866  Highway/Road/Alley/Street/Sidewalk  \n",
      "16867  Highway/Road/Alley/Street/Sidewalk  \n",
      "16868                    Hotel/Motel/Etc.  \n",
      "...                                   ...  \n",
      "52707  Highway/Road/Alley/Street/Sidewalk  \n",
      "52708  Highway/Road/Alley/Street/Sidewalk  \n",
      "52709  Highway/Road/Alley/Street/Sidewalk  \n",
      "52710  Highway/Road/Alley/Street/Sidewalk  \n",
      "52711                       Other/Unknown  \n",
      "\n",
      "[3365 rows x 8 columns]\n"
     ]
    }
   ],
   "source": [
    "print(\"Number of outliers:\", (~filtered_entries).sum())\n",
    "print(df.loc[~filtered_entries])\n"
   ]
  },
  {
   "cell_type": "code",
   "execution_count": null,
   "id": "de13051d",
   "metadata": {},
   "outputs": [
    {
     "name": "stdout",
     "output_type": "stream",
     "text": [
      "Number of rows before filtering outliers 52712\n",
      "Number of rows after filtering outliers 49347\n"
     ]
    },
    {
     "data": {
      "text/html": [
       "<div>\n",
       "<style scoped>\n",
       "    .dataframe tbody tr th:only-of-type {\n",
       "        vertical-align: middle;\n",
       "    }\n",
       "\n",
       "    .dataframe tbody tr th {\n",
       "        vertical-align: top;\n",
       "    }\n",
       "\n",
       "    .dataframe thead th {\n",
       "        text-align: right;\n",
       "    }\n",
       "</style>\n",
       "<table border=\"1\" class=\"dataframe\">\n",
       "  <thead>\n",
       "    <tr style=\"text-align: right;\">\n",
       "      <th></th>\n",
       "      <th>year</th>\n",
       "      <th>incident_date</th>\n",
       "      <th>incident_hour</th>\n",
       "      <th>city</th>\n",
       "      <th>population</th>\n",
       "      <th>offense_category_name</th>\n",
       "      <th>criminal_act_name</th>\n",
       "      <th>location_area</th>\n",
       "    </tr>\n",
       "  </thead>\n",
       "  <tbody>\n",
       "    <tr>\n",
       "      <th>0</th>\n",
       "      <td>2022</td>\n",
       "      <td>2022-01-02</td>\n",
       "      <td>18</td>\n",
       "      <td>Ansonia</td>\n",
       "      <td>18750</td>\n",
       "      <td>Weapon Law Violations</td>\n",
       "      <td>Using/Consuming</td>\n",
       "      <td>Residence/Home</td>\n",
       "    </tr>\n",
       "    <tr>\n",
       "      <th>1</th>\n",
       "      <td>2022</td>\n",
       "      <td>2022-01-12</td>\n",
       "      <td>11</td>\n",
       "      <td>Ansonia</td>\n",
       "      <td>18750</td>\n",
       "      <td>Counterfeiting/Forgery</td>\n",
       "      <td>Possessing/Concealing</td>\n",
       "      <td>Service/Gas Station</td>\n",
       "    </tr>\n",
       "    <tr>\n",
       "      <th>2</th>\n",
       "      <td>2022</td>\n",
       "      <td>2022-01-12</td>\n",
       "      <td>12</td>\n",
       "      <td>Ansonia</td>\n",
       "      <td>18750</td>\n",
       "      <td>Drug/Narcotic Offenses</td>\n",
       "      <td>Possessing/Concealing</td>\n",
       "      <td>Highway/Road/Alley/Street/Sidewalk</td>\n",
       "    </tr>\n",
       "    <tr>\n",
       "      <th>3</th>\n",
       "      <td>2022</td>\n",
       "      <td>2022-01-16</td>\n",
       "      <td>15</td>\n",
       "      <td>Ansonia</td>\n",
       "      <td>18750</td>\n",
       "      <td>Weapon Law Violations</td>\n",
       "      <td>Possessing/Concealing</td>\n",
       "      <td>Government/Public Building</td>\n",
       "    </tr>\n",
       "    <tr>\n",
       "      <th>4</th>\n",
       "      <td>2022</td>\n",
       "      <td>2022-01-27</td>\n",
       "      <td>15</td>\n",
       "      <td>Ansonia</td>\n",
       "      <td>18750</td>\n",
       "      <td>Counterfeiting/Forgery</td>\n",
       "      <td>Cultivating/Manufacturing/Publishing</td>\n",
       "      <td>Bank/Savings and Loan</td>\n",
       "    </tr>\n",
       "  </tbody>\n",
       "</table>\n",
       "</div>"
      ],
      "text/plain": [
       "   year incident_date  incident_hour     city  population  \\\n",
       "0  2022    2022-01-02             18  Ansonia       18750   \n",
       "1  2022    2022-01-12             11  Ansonia       18750   \n",
       "2  2022    2022-01-12             12  Ansonia       18750   \n",
       "3  2022    2022-01-16             15  Ansonia       18750   \n",
       "4  2022    2022-01-27             15  Ansonia       18750   \n",
       "\n",
       "    offense_category_name                     criminal_act_name  \\\n",
       "0   Weapon Law Violations                       Using/Consuming   \n",
       "1  Counterfeiting/Forgery                 Possessing/Concealing   \n",
       "2  Drug/Narcotic Offenses                 Possessing/Concealing   \n",
       "3   Weapon Law Violations                 Possessing/Concealing   \n",
       "4  Counterfeiting/Forgery  Cultivating/Manufacturing/Publishing   \n",
       "\n",
       "                        location_area  \n",
       "0                      Residence/Home  \n",
       "1                 Service/Gas Station  \n",
       "2  Highway/Road/Alley/Street/Sidewalk  \n",
       "3          Government/Public Building  \n",
       "4               Bank/Savings and Loan  "
      ]
     },
     "execution_count": 10,
     "metadata": {},
     "output_type": "execute_result"
    }
   ],
   "source": [
    "print('Number of rows before filtering outliers', len(df))\n",
    "df_without_outliers = df[filtered_entries]\n",
    "print('Number of rows after filtering outliers', len(df_without_outliers))\n",
    "df_without_outliers.head()"
   ]
  },
  {
   "cell_type": "code",
   "execution_count": null,
   "id": "3f51c516",
   "metadata": {},
   "outputs": [
    {
     "data": {
      "text/plain": [
       "city\n",
       "New Britain    343\n",
       "Stamford       267\n",
       "New Haven      260\n",
       "Hartford       200\n",
       "Derby          121\n",
       "              ... \n",
       "Monroe           2\n",
       "Wolcott          1\n",
       "Cromwell         1\n",
       "Avon             1\n",
       "Wilton           1\n",
       "Name: count, Length: 74, dtype: int64"
      ]
     },
     "execution_count": 11,
     "metadata": {},
     "output_type": "execute_result"
    }
   ],
   "source": [
    "df.loc[z_scores_df['incident_hour'].abs() > 2]['city'].value_counts()\n"
   ]
  },
  {
   "cell_type": "code",
   "execution_count": null,
   "id": "f57d3f99",
   "metadata": {},
   "outputs": [
    {
     "name": "stdout",
     "output_type": "stream",
     "text": [
      "\n"
     ]
    },
    {
     "name": "stderr",
     "output_type": "stream",
     "text": [
      "/var/folders/wr/m4n58hhn34d1tgx1ny699h8h0000gn/T/ipykernel_60191/525856658.py:1: SettingWithCopyWarning: \n",
      "A value is trying to be set on a copy of a slice from a DataFrame\n",
      "\n",
      "See the caveats in the documentation: https://pandas.pydata.org/pandas-docs/stable/user_guide/indexing.html#returning-a-view-versus-a-copy\n",
      "  df_without_outliers.drop(columns=[\"population\"], inplace=True)\n"
     ]
    }
   ],
   "source": [
    "df_without_outliers.drop(columns=[\"population\"], inplace=True)\n",
    "df_without_outliers.to_csv(\"combined_data.csv\", index=False)\n",
    "print()"
   ]
  },
  {
   "cell_type": "code",
   "execution_count": null,
   "id": "33e07fd4",
   "metadata": {},
   "outputs": [
    {
     "data": {
      "text/html": [
       "<div>\n",
       "<style scoped>\n",
       "    .dataframe tbody tr th:only-of-type {\n",
       "        vertical-align: middle;\n",
       "    }\n",
       "\n",
       "    .dataframe tbody tr th {\n",
       "        vertical-align: top;\n",
       "    }\n",
       "\n",
       "    .dataframe thead th {\n",
       "        text-align: right;\n",
       "    }\n",
       "</style>\n",
       "<table border=\"1\" class=\"dataframe\">\n",
       "  <thead>\n",
       "    <tr style=\"text-align: right;\">\n",
       "      <th></th>\n",
       "      <th>year</th>\n",
       "      <th>incident_date</th>\n",
       "      <th>incident_hour</th>\n",
       "      <th>city</th>\n",
       "      <th>offense_category_name</th>\n",
       "      <th>criminal_act_name</th>\n",
       "      <th>location_area</th>\n",
       "    </tr>\n",
       "  </thead>\n",
       "  <tbody>\n",
       "    <tr>\n",
       "      <th>0</th>\n",
       "      <td>2022</td>\n",
       "      <td>2022-01-02</td>\n",
       "      <td>18</td>\n",
       "      <td>Ansonia</td>\n",
       "      <td>Weapon Law Violations</td>\n",
       "      <td>Using/Consuming</td>\n",
       "      <td>Residence/Home</td>\n",
       "    </tr>\n",
       "    <tr>\n",
       "      <th>1</th>\n",
       "      <td>2022</td>\n",
       "      <td>2022-01-12</td>\n",
       "      <td>11</td>\n",
       "      <td>Ansonia</td>\n",
       "      <td>Counterfeiting/Forgery</td>\n",
       "      <td>Possessing/Concealing</td>\n",
       "      <td>Service/Gas Station</td>\n",
       "    </tr>\n",
       "    <tr>\n",
       "      <th>2</th>\n",
       "      <td>2022</td>\n",
       "      <td>2022-01-12</td>\n",
       "      <td>12</td>\n",
       "      <td>Ansonia</td>\n",
       "      <td>Drug/Narcotic Offenses</td>\n",
       "      <td>Possessing/Concealing</td>\n",
       "      <td>Highway/Road/Alley/Street/Sidewalk</td>\n",
       "    </tr>\n",
       "    <tr>\n",
       "      <th>3</th>\n",
       "      <td>2022</td>\n",
       "      <td>2022-01-16</td>\n",
       "      <td>15</td>\n",
       "      <td>Ansonia</td>\n",
       "      <td>Weapon Law Violations</td>\n",
       "      <td>Possessing/Concealing</td>\n",
       "      <td>Government/Public Building</td>\n",
       "    </tr>\n",
       "    <tr>\n",
       "      <th>4</th>\n",
       "      <td>2022</td>\n",
       "      <td>2022-01-27</td>\n",
       "      <td>15</td>\n",
       "      <td>Ansonia</td>\n",
       "      <td>Counterfeiting/Forgery</td>\n",
       "      <td>Cultivating/Manufacturing/Publishing</td>\n",
       "      <td>Bank/Savings and Loan</td>\n",
       "    </tr>\n",
       "    <tr>\n",
       "      <th>...</th>\n",
       "      <td>...</td>\n",
       "      <td>...</td>\n",
       "      <td>...</td>\n",
       "      <td>...</td>\n",
       "      <td>...</td>\n",
       "      <td>...</td>\n",
       "      <td>...</td>\n",
       "    </tr>\n",
       "    <tr>\n",
       "      <th>51428</th>\n",
       "      <td>2021</td>\n",
       "      <td>2021-12-04</td>\n",
       "      <td>1</td>\n",
       "      <td>Groton Town</td>\n",
       "      <td>Drug/Narcotic Offenses</td>\n",
       "      <td>Using/Consuming</td>\n",
       "      <td>Highway/Road/Alley/Street/Sidewalk</td>\n",
       "    </tr>\n",
       "    <tr>\n",
       "      <th>51429</th>\n",
       "      <td>2021</td>\n",
       "      <td>2021-12-07</td>\n",
       "      <td>10</td>\n",
       "      <td>Groton Town</td>\n",
       "      <td>Weapon Law Violations</td>\n",
       "      <td>Possessing/Concealing</td>\n",
       "      <td>School/College</td>\n",
       "    </tr>\n",
       "    <tr>\n",
       "      <th>51430</th>\n",
       "      <td>2021</td>\n",
       "      <td>2021-12-12</td>\n",
       "      <td>19</td>\n",
       "      <td>Groton Town</td>\n",
       "      <td>Drug/Narcotic Offenses</td>\n",
       "      <td>Possessing/Concealing</td>\n",
       "      <td>Highway/Road/Alley/Street/Sidewalk</td>\n",
       "    </tr>\n",
       "    <tr>\n",
       "      <th>51431</th>\n",
       "      <td>2021</td>\n",
       "      <td>2021-12-12</td>\n",
       "      <td>19</td>\n",
       "      <td>Groton Town</td>\n",
       "      <td>Drug/Narcotic Offenses</td>\n",
       "      <td>Possessing/Concealing</td>\n",
       "      <td>Highway/Road/Alley/Street/Sidewalk</td>\n",
       "    </tr>\n",
       "    <tr>\n",
       "      <th>51432</th>\n",
       "      <td>2021</td>\n",
       "      <td>2021-12-16</td>\n",
       "      <td>21</td>\n",
       "      <td>Groton Town</td>\n",
       "      <td>Drug/Narcotic Offenses</td>\n",
       "      <td>Possessing/Concealing</td>\n",
       "      <td>Highway/Road/Alley/Street/Sidewalk</td>\n",
       "    </tr>\n",
       "  </tbody>\n",
       "</table>\n",
       "<p>49347 rows × 7 columns</p>\n",
       "</div>"
      ],
      "text/plain": [
       "       year incident_date  incident_hour         city   offense_category_name  \\\n",
       "0      2022    2022-01-02             18      Ansonia   Weapon Law Violations   \n",
       "1      2022    2022-01-12             11      Ansonia  Counterfeiting/Forgery   \n",
       "2      2022    2022-01-12             12      Ansonia  Drug/Narcotic Offenses   \n",
       "3      2022    2022-01-16             15      Ansonia   Weapon Law Violations   \n",
       "4      2022    2022-01-27             15      Ansonia  Counterfeiting/Forgery   \n",
       "...     ...           ...            ...          ...                     ...   \n",
       "51428  2021    2021-12-04              1  Groton Town  Drug/Narcotic Offenses   \n",
       "51429  2021    2021-12-07             10  Groton Town   Weapon Law Violations   \n",
       "51430  2021    2021-12-12             19  Groton Town  Drug/Narcotic Offenses   \n",
       "51431  2021    2021-12-12             19  Groton Town  Drug/Narcotic Offenses   \n",
       "51432  2021    2021-12-16             21  Groton Town  Drug/Narcotic Offenses   \n",
       "\n",
       "                          criminal_act_name  \\\n",
       "0                           Using/Consuming   \n",
       "1                     Possessing/Concealing   \n",
       "2                     Possessing/Concealing   \n",
       "3                     Possessing/Concealing   \n",
       "4      Cultivating/Manufacturing/Publishing   \n",
       "...                                     ...   \n",
       "51428                       Using/Consuming   \n",
       "51429                 Possessing/Concealing   \n",
       "51430                 Possessing/Concealing   \n",
       "51431                 Possessing/Concealing   \n",
       "51432                 Possessing/Concealing   \n",
       "\n",
       "                            location_area  \n",
       "0                          Residence/Home  \n",
       "1                     Service/Gas Station  \n",
       "2      Highway/Road/Alley/Street/Sidewalk  \n",
       "3              Government/Public Building  \n",
       "4                   Bank/Savings and Loan  \n",
       "...                                   ...  \n",
       "51428  Highway/Road/Alley/Street/Sidewalk  \n",
       "51429                      School/College  \n",
       "51430  Highway/Road/Alley/Street/Sidewalk  \n",
       "51431  Highway/Road/Alley/Street/Sidewalk  \n",
       "51432  Highway/Road/Alley/Street/Sidewalk  \n",
       "\n",
       "[49347 rows x 7 columns]"
      ]
     },
     "execution_count": 13,
     "metadata": {},
     "output_type": "execute_result"
    }
   ],
   "source": [
    "df_without_outliers"
   ]
  }
 ],
 "metadata": {
  "kernelspec": {
   "display_name": "Python (nyc)",
   "language": "python",
   "name": "nyc"
  },
  "language_info": {
   "codemirror_mode": {
    "name": "ipython",
    "version": 3
   },
   "file_extension": ".py",
   "mimetype": "text/x-python",
   "name": "python",
   "nbconvert_exporter": "python",
   "pygments_lexer": "ipython3",
   "version": "3.11.11"
  }
 },
 "nbformat": 4,
 "nbformat_minor": 5
}
