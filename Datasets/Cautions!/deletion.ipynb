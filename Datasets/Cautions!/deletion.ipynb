{
 "cells": [
  {
   "cell_type": "code",
   "execution_count": 1,
   "id": "a1d7e6b3",
   "metadata": {},
   "outputs": [],
   "source": [
    "import os\n",
    "\n",
    "# List of CSVs we're keeping\n",
    "# Know that for some odd reason, this file gets delete\n",
    "# even though I listed it to be kept\n",
    "\n",
    "keep_files = {\n",
    "    \"agencies.csv\",\n",
    "    \"NIBRS_CRIMINAL_ACT_TYPE.csv\",\n",
    "    \"NIBRS_CRIMINAL_ACT.csv\",\n",
    "    \"NIBRS_incident.csv\",\n",
    "    \"NIBRS_LOCATION_TYPE.csv\",\n",
    "    \"NIBRS_month.csv\",\n",
    "    \"NIBRS_OFFENSE_TYPE.csv\",\n",
    "    \"NIBRS_OFFENSE.csv\"\n",
    "    \"deletion.ipynb\"\n",
    "}\n",
    "\n",
    "# Get all files in current directory\n",
    "for file in os.listdir('.'):\n",
    "    if file not in keep_files and os.path.isfile(file):\n",
    "        os.remove(file)\n"
   ]
  }
 ],
 "metadata": {
  "kernelspec": {
   "display_name": "Python (nyc)",
   "language": "python",
   "name": "nyc"
  },
  "language_info": {
   "codemirror_mode": {
    "name": "ipython",
    "version": 3
   },
   "file_extension": ".py",
   "mimetype": "text/x-python",
   "name": "python",
   "nbconvert_exporter": "python",
   "pygments_lexer": "ipython3",
   "version": "3.11.11"
  }
 },
 "nbformat": 4,
 "nbformat_minor": 5
}
