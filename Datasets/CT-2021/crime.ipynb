{
 "cells": [
  {
   "cell_type": "code",
   "execution_count": 19,
   "id": "9d61b7d7",
   "metadata": {},
   "outputs": [],
   "source": [
    "import pandas as pd\n",
    "\n",
    "#Dataframes for each CSV File\n",
    "\n",
    "df_agencies= pd.read_csv(\"agencies.csv\") \n",
    "df_act_type = pd.read_csv(\"NIBRS_CRIMINAL_ACT_TYPE.csv\")\n",
    "df_act = pd.read_csv(\"NIBRS_CRIMINAL_ACT.csv\")\n",
    "df_incident = pd.read_csv(\"NIBRS_incident.csv\")\n",
    "df_location = pd.read_csv(\"NIBRS_LOCATION_TYPE.csv\")\n",
    "df_month = pd.read_csv(\"NIBRS_month.csv\")\n",
    "df_offense_type = pd.read_csv(\"NIBRS_OFFENSE_TYPE.csv\")\n",
    "df_offense = pd.read_csv(\"NIBRS_OFFENSE.csv\")\n",
    "\n",
    "df = df_incident\\\n",
    "    .merge(df_agencies, on=\"agency_id\", how=\"outer\")\\\n",
    "    .merge(df_month, on=[\"agency_id\", \"nibrs_month_id\", \"did\"], how=\"outer\")\\\n",
    "    .merge(df_offense, on=\"incident_id\", how=\"outer\", suffixes=(\"_left\", \"_right\"))\\\n",
    "    .merge(df_offense_type, on=\"offense_code\", how=\"outer\")\\\n",
    "    .merge(df_act, on=\"offense_id\", how=\"outer\")\\\n",
    "    .merge(df_act_type, on=\"criminal_act_id\", how=\"outer\")\\\n",
    "    .merge(df_location, on=\"location_id\", how = \"outer\")\n",
    "\n",
    "df.to_csv(\"2021_merged_data.csv\", index=False)"
   ]
  },
  {
   "cell_type": "markdown",
   "id": "5d57d297",
   "metadata": {},
   "source": [
    "##### Removing Duplicates (If Any)"
   ]
  },
  {
   "cell_type": "code",
   "execution_count": 20,
   "id": "5527589a",
   "metadata": {},
   "outputs": [
    {
     "name": "stdout",
     "output_type": "stream",
     "text": [
      "Number of Rows before removing duplicates:  122971\n",
      "Number of Rows after removing Duplicates: 122971\n"
     ]
    }
   ],
   "source": [
    "column_names = df.columns.tolist()\n",
    "print(\"Number of Rows before removing duplicates: \", len(df))\n",
    "df.drop_duplicates(subset=column_names, keep='first', inplace=True)\n",
    "print('Number of Rows after removing Duplicates:', len(df))"
   ]
  },
  {
   "cell_type": "markdown",
   "id": "a272c9bd",
   "metadata": {},
   "source": [
    "##### Removing Columns with Nulls or No Purpose"
   ]
  },
  {
   "cell_type": "code",
   "execution_count": 21,
   "id": "7f179329",
   "metadata": {},
   "outputs": [
    {
     "name": "stdout",
     "output_type": "stream",
     "text": [
      "data_year_x 38\n",
      "agency_id 37\n",
      "incident_id 38\n",
      "nibrs_month_id 38\n",
      "cargo_theft_flag 38\n",
      "submission_date 38\n",
      "incident_date 38\n",
      "report_date_flag 38\n",
      "incident_hour 38\n",
      "cleared_except_id 38\n",
      "cleared_except_date 122835\n",
      "incident_status 38\n",
      "data_home_x 122971\n",
      "orig_format_x 38\n",
      "did 38\n",
      "yearly_agency_id 37\n",
      "data_year_y 37\n",
      "ori 37\n",
      "legacy_ori 37\n",
      "covered_by_legacy_ori 122971\n",
      "direct_contributor_flag 37\n",
      "dormant_flag 37\n",
      "dormant_year 122971\n",
      "reporting_type 37\n",
      "ucr_agency_name 37\n",
      "ncic_agency_name 500\n",
      "pub_agency_name 37\n",
      "pub_agency_unit 122787\n",
      "agency_status 37\n",
      "state_id 37\n",
      "state_name 37\n",
      "state_abbr 37\n",
      "state_postal_abbr 37\n",
      "division_code 37\n",
      "division_name 37\n",
      "region_code 37\n",
      "region_name 37\n",
      "region_desc 37\n",
      "agency_type_name 37\n",
      "population 37\n",
      "submitting_agency_id 37\n",
      "sai 37\n",
      "submitting_agency_name 37\n",
      "suburban_area_flag 37\n",
      "population_group_id 37\n",
      "population_group_code 37\n",
      "population_group_desc 37\n",
      "parent_pop_group_code 37\n",
      "parent_pop_group_desc 37\n",
      "mip_flag 37\n",
      "pop_sort_order 37\n",
      "summary_rape_def 122971\n",
      "pe_reported_flag 37\n",
      "male_officer 37\n",
      "male_civilian 37\n",
      "male_officer+male_civilian 37\n",
      "female_officer 37\n",
      "female_civilian 37\n",
      "female_officer+female_civilian 37\n",
      "officer_rate 37\n",
      "employee_rate 37\n",
      "nibrs_cert_date 37\n",
      "nibrs_start_date 37\n",
      "nibrs_leoka_start_date 38\n",
      "nibrs_ct_start_date 38\n",
      "nibrs_multi_bias_start_date 38\n",
      "nibrs_off_eth_start_date 38\n",
      "covered_flag 37\n",
      "county_name 37\n",
      "msa_name 37\n",
      "publishable_flag 37\n",
      "participated 37\n",
      "nibrs_participated 37\n",
      "data_year_left 38\n",
      "month_num 38\n",
      "inc_data_year 38\n",
      "reported_status 38\n",
      "report_date 119563\n",
      "update_flag 122971\n",
      "orig_format_y 38\n",
      "data_home_y 122971\n",
      "ddocname 38\n",
      "month_pub_status 122971\n",
      "data_year_right 38\n",
      "offense_id 38\n",
      "offense_code 2\n",
      "attempt_complete_flag 38\n",
      "location_id 37\n",
      "num_premises_entered 122833\n",
      "method_entry_code 117871\n",
      "offense_name 2\n",
      "crime_against 2\n",
      "ct_flag 2\n",
      "hc_flag 2\n",
      "hc_code 2\n",
      "offense_category_name 2\n",
      "offense_group 2\n",
      "data_year 105497\n",
      "criminal_act_id 105497\n",
      "criminal_act_code 105497\n",
      "criminal_act_name 105497\n",
      "criminal_act_desc 105497\n",
      "location_code 37\n",
      "location_name 37\n"
     ]
    }
   ],
   "source": [
    "test = df.isna().sum()\n",
    "for col, count in test.items():\n",
    "    if count != 0:\n",
    "        print(col, count)"
   ]
  },
  {
   "cell_type": "code",
   "execution_count": 22,
   "id": "2e279e9a",
   "metadata": {},
   "outputs": [],
   "source": [
    "#These Columns had Null Entries\n",
    "df.drop(columns=[\"cleared_except_date\", 'data_home_x', 'covered_by_legacy_ori', 'dormant_year',\\\n",
    "                 'pub_agency_unit', 'report_date', 'update_flag', 'data_home_y', 'month_pub_status',\\\n",
    "                 'num_premises_entered', 'summary_rape_def', 'method_entry_code'], inplace=True)\n",
    "\n",
    "#Manually Inspected The CSV\n",
    "df.drop(columns=['nibrs_month_id_x', 'cargo_theft_flag', 'submission_date', 'report_date_flag', 'incident_id',\\\n",
    "                 'cleared_except_id', 'incident_status', 'orig_format_x', 'did', 'data_year_y', 'legacy_ori',\\\n",
    "                 'direct_contributor_flag', 'dormant_flag', 'reporting_type', 'ucr_agency_name', 'nibrs_month_id_x',\\\n",
    "                 'agency_status', 'state_id', 'state_abbr', 'state_postal_abbr', 'division_code', 'division_name',\\\n",
    "                 'region_code', 'region_name', 'region_desc', 'agency_type_name', 'submitting_agency_id', 'sai', 'ori',\\\n",
    "                 'submitting_agency_name', 'suburban_area_flag', 'population_group_id', 'population_group_code', 'yearly_agency_id',\\\n",
    "                 'population_group_desc', 'parent_pop_group_code', 'parent_pop_group_desc', 'mip_flag', 'pop_sort_order',\\\n",
    "                 'pe_reported_flag', 'officer_rate', 'employee_rate', 'nibrs_cert_date', 'nibrs_start_date', 'nibrs_leoka_start_date',\\\n",
    "                 'nibrs_ct_start_date',\t'nibrs_multi_bias_start_date', 'nibrs_off_eth_start_date', 'covered_flag', 'county_name',\\\n",
    "                 'msa_name', 'publishable_flag', 'participated', 'nibrs_participated', 'data_year_left', 'nibrs_month_id_y',\\\n",
    "                 'agency_id_y',\t'month_num', 'inc_data_year', 'reported_status', 'orig_format_y', 'ddocname', 'data_year_right',\\\n",
    "                 'offense_id', 'offense_code', 'attempt_complete_flag', 'location_id', 'ct_flag', 'hc_flag', 'hc_code', 'crime_against', \\\n",
    "                 'offense_group', 'data_year', 'criminal_act_id', 'criminal_act_code', 'criminal_act_desc', 'ncic_agency_name', 'location_code'],\n",
    "                 inplace = True, errors='ignore')\n",
    "\n",
    "df.rename(columns={'data_year_x': 'year'}, inplace=True)\n",
    "df.rename(columns={'agency_id_x': 'agency_location'}, inplace=True)\n",
    "df.rename(columns={'pub_agency_name': 'agency_name'}, inplace=True)\n",
    "df.rename(columns={'state_name': 'state'}, inplace=True)\n",
    "df.rename(columns={'location_name': 'location_area'}, inplace=True)\n",
    "\n",
    "#ncic_agency_name\n"
   ]
  },
  {
   "cell_type": "markdown",
   "id": "777c7a09",
   "metadata": {},
   "source": [
    "##### Check Datatype for each Variable. Change Date Datatype."
   ]
  },
  {
   "cell_type": "code",
   "execution_count": 23,
   "id": "02ebba30",
   "metadata": {},
   "outputs": [
    {
     "name": "stdout",
     "output_type": "stream",
     "text": [
      "<class 'pandas.core.frame.DataFrame'>\n",
      "RangeIndex: 122971 entries, 0 to 122970\n",
      "Data columns (total 18 columns):\n",
      " #   Column                          Non-Null Count   Dtype  \n",
      "---  ------                          --------------   -----  \n",
      " 0   year                            122933 non-null  float64\n",
      " 1   agency_id                       122934 non-null  float64\n",
      " 2   nibrs_month_id                  122933 non-null  float64\n",
      " 3   incident_date                   122933 non-null  object \n",
      " 4   incident_hour                   122933 non-null  float64\n",
      " 5   agency_name                     122934 non-null  object \n",
      " 6   state                           122934 non-null  object \n",
      " 7   population                      122934 non-null  float64\n",
      " 8   male_officer                    122934 non-null  float64\n",
      " 9   male_civilian                   122934 non-null  float64\n",
      " 10  male_officer+male_civilian      122934 non-null  float64\n",
      " 11  female_officer                  122934 non-null  float64\n",
      " 12  female_civilian                 122934 non-null  float64\n",
      " 13  female_officer+female_civilian  122934 non-null  float64\n",
      " 14  offense_name                    122969 non-null  object \n",
      " 15  offense_category_name           122969 non-null  object \n",
      " 16  criminal_act_name               17474 non-null   object \n",
      " 17  location_area                   122934 non-null  object \n",
      "dtypes: float64(11), object(7)\n",
      "memory usage: 16.9+ MB\n",
      "\n",
      "\n",
      "<class 'pandas.core.frame.DataFrame'>\n",
      "RangeIndex: 122971 entries, 0 to 122970\n",
      "Data columns (total 18 columns):\n",
      " #   Column                          Non-Null Count   Dtype         \n",
      "---  ------                          --------------   -----         \n",
      " 0   year                            122933 non-null  float64       \n",
      " 1   agency_id                       122934 non-null  float64       \n",
      " 2   nibrs_month_id                  122933 non-null  float64       \n",
      " 3   incident_date                   122933 non-null  datetime64[ns]\n",
      " 4   incident_hour                   122933 non-null  float64       \n",
      " 5   agency_name                     122934 non-null  object        \n",
      " 6   state                           122934 non-null  object        \n",
      " 7   population                      122934 non-null  float64       \n",
      " 8   male_officer                    122934 non-null  float64       \n",
      " 9   male_civilian                   122934 non-null  float64       \n",
      " 10  male_officer+male_civilian      122934 non-null  float64       \n",
      " 11  female_officer                  122934 non-null  float64       \n",
      " 12  female_civilian                 122934 non-null  float64       \n",
      " 13  female_officer+female_civilian  122934 non-null  float64       \n",
      " 14  offense_name                    122969 non-null  object        \n",
      " 15  offense_category_name           122969 non-null  object        \n",
      " 16  criminal_act_name               17474 non-null   object        \n",
      " 17  location_area                   122934 non-null  object        \n",
      "dtypes: datetime64[ns](1), float64(11), object(6)\n",
      "memory usage: 16.9+ MB\n"
     ]
    }
   ],
   "source": [
    "df.info()\n",
    "df['incident_date'] = pd.to_datetime(df['incident_date'], format='%Y-%m-%d', errors='coerce')\n",
    "print(\"\\n\")\n",
    "df.info()\n"
   ]
  },
  {
   "cell_type": "code",
   "execution_count": 24,
   "id": "141d4247",
   "metadata": {},
   "outputs": [],
   "source": [
    "df.drop(columns=['nibrs_month_id', 'nibrs_month_id', 'state', 'criminal_act_name'], inplace=True)\n",
    "df.dropna(inplace=True)\n",
    "df['population'] = df['population'].astype(int)\n",
    "df['year'] = df['year'].astype(int)\n",
    "df['incident_hour'] = df['incident_hour'].astype(int)\n",
    "\n"
   ]
  },
  {
   "cell_type": "code",
   "execution_count": 25,
   "id": "d1c0335f",
   "metadata": {},
   "outputs": [],
   "source": [
    "df.to_csv(\"2021_merged_data.csv\", index=False)"
   ]
  },
  {
   "cell_type": "code",
   "execution_count": 26,
   "id": "61255ef3",
   "metadata": {},
   "outputs": [
    {
     "data": {
      "text/plain": [
       "year                              0\n",
       "agency_id                         0\n",
       "incident_date                     0\n",
       "incident_hour                     0\n",
       "agency_name                       0\n",
       "population                        0\n",
       "male_officer                      0\n",
       "male_civilian                     0\n",
       "male_officer+male_civilian        0\n",
       "female_officer                    0\n",
       "female_civilian                   0\n",
       "female_officer+female_civilian    0\n",
       "offense_name                      0\n",
       "offense_category_name             0\n",
       "location_area                     0\n",
       "dtype: int64"
      ]
     },
     "execution_count": 26,
     "metadata": {},
     "output_type": "execute_result"
    }
   ],
   "source": [
    "df.isna().sum()\n"
   ]
  },
  {
   "cell_type": "code",
   "execution_count": 27,
   "id": "326e8e56",
   "metadata": {},
   "outputs": [
    {
     "name": "stdout",
     "output_type": "stream",
     "text": [
      "<class 'pandas.core.frame.DataFrame'>\n",
      "Index: 122933 entries, 0 to 122932\n",
      "Data columns (total 15 columns):\n",
      " #   Column                          Non-Null Count   Dtype         \n",
      "---  ------                          --------------   -----         \n",
      " 0   year                            122933 non-null  int64         \n",
      " 1   agency_id                       122933 non-null  float64       \n",
      " 2   incident_date                   122933 non-null  datetime64[ns]\n",
      " 3   incident_hour                   122933 non-null  int64         \n",
      " 4   agency_name                     122933 non-null  object        \n",
      " 5   population                      122933 non-null  int64         \n",
      " 6   male_officer                    122933 non-null  float64       \n",
      " 7   male_civilian                   122933 non-null  float64       \n",
      " 8   male_officer+male_civilian      122933 non-null  float64       \n",
      " 9   female_officer                  122933 non-null  float64       \n",
      " 10  female_civilian                 122933 non-null  float64       \n",
      " 11  female_officer+female_civilian  122933 non-null  float64       \n",
      " 12  offense_name                    122933 non-null  object        \n",
      " 13  offense_category_name           122933 non-null  object        \n",
      " 14  location_area                   122933 non-null  object        \n",
      "dtypes: datetime64[ns](1), float64(7), int64(3), object(4)\n",
      "memory usage: 15.0+ MB\n"
     ]
    }
   ],
   "source": [
    "df.info()"
   ]
  }
 ],
 "metadata": {
  "kernelspec": {
   "display_name": "Python (nyc)",
   "language": "python",
   "name": "nyc"
  },
  "language_info": {
   "codemirror_mode": {
    "name": "ipython",
    "version": 3
   },
   "file_extension": ".py",
   "mimetype": "text/x-python",
   "name": "python",
   "nbconvert_exporter": "python",
   "pygments_lexer": "ipython3",
   "version": "3.11.11"
  }
 },
 "nbformat": 4,
 "nbformat_minor": 5
}
