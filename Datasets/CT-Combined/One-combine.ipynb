{
 "cells": [
  {
   "cell_type": "markdown",
   "id": "00c2acd1",
   "metadata": {},
   "source": [
    "##### Just combining the final dataset"
   ]
  },
  {
   "cell_type": "code",
   "execution_count": 15,
   "id": "e8736f90",
   "metadata": {},
   "outputs": [],
   "source": [
    "import pandas as pd\n",
    "\n",
    "a = pd.read_csv(\"../CT-2022/2022_merged_data.csv\")\n",
    "b = pd.read_csv(\"../CT-2023/2023_merged_data.csv\")\n",
    "c = pd.read_csv(\"../CT-2021/2021_merged_data.csv\")\n",
    "\n",
    "df = pd.concat([a, b, c], ignore_index=True)"
   ]
  },
  {
   "cell_type": "code",
   "execution_count": 16,
   "id": "b1c3b1e3",
   "metadata": {},
   "outputs": [],
   "source": [
    "test = df.isna().sum()\n",
    "for col, count in test.items():\n",
    "    if count != 0:\n",
    "        print(col, count)"
   ]
  },
  {
   "cell_type": "code",
   "execution_count": 17,
   "id": "97917468",
   "metadata": {},
   "outputs": [
    {
     "name": "stdout",
     "output_type": "stream",
     "text": [
      "<class 'pandas.core.frame.DataFrame'>\n",
      "RangeIndex: 384241 entries, 0 to 384240\n",
      "Data columns (total 15 columns):\n",
      " #   Column                          Non-Null Count   Dtype  \n",
      "---  ------                          --------------   -----  \n",
      " 0   year                            384241 non-null  int64  \n",
      " 1   agency_id                       384241 non-null  float64\n",
      " 2   incident_date                   384241 non-null  object \n",
      " 3   incident_hour                   384241 non-null  int64  \n",
      " 4   agency_name                     384241 non-null  object \n",
      " 5   population                      384241 non-null  int64  \n",
      " 6   male_officer                    384241 non-null  float64\n",
      " 7   male_civilian                   384241 non-null  float64\n",
      " 8   male_officer+male_civilian      384241 non-null  float64\n",
      " 9   female_officer                  384241 non-null  float64\n",
      " 10  female_civilian                 384241 non-null  float64\n",
      " 11  female_officer+female_civilian  384241 non-null  float64\n",
      " 12  offense_name                    384241 non-null  object \n",
      " 13  offense_category_name           384241 non-null  object \n",
      " 14  location_area                   384241 non-null  object \n",
      "dtypes: float64(7), int64(3), object(5)\n",
      "memory usage: 44.0+ MB\n"
     ]
    }
   ],
   "source": [
    "df.info()"
   ]
  },
  {
   "cell_type": "code",
   "execution_count": 18,
   "id": "ef919fb1",
   "metadata": {},
   "outputs": [],
   "source": [
    "df = df.drop(columns=[\n",
    "    'male_officer', 'male_civilian',\n",
    "    'male_officer+male_civilian', 'female_officer', 'female_civilian',\n",
    "    'female_officer+female_civilian', 'offense_name', 'agency_id'\n",
    "])\n",
    "df = df[(df['population'] != 0) & (~df['population'].isna())]\n",
    "\n",
    "df.rename(columns={'agency_name': 'city'}, inplace=True)\n",
    "df.rename(columns={'incident_date': 'date'}, inplace=True)\n",
    "df.rename(columns={'incident_hour': 'hour'}, inplace=True)\n",
    "df['date'] = pd.to_datetime(df['date'], errors='coerce')\n",
    "\n"
   ]
  },
  {
   "cell_type": "code",
   "execution_count": 19,
   "id": "9cd2473a",
   "metadata": {},
   "outputs": [],
   "source": [
    "df['year'] = df['date'].dt.year\n",
    "df['month'] = df['date'].dt.month\n",
    "df['day'] = df['date'].dt.day\n",
    "df['dayofweek'] = df['date'].dt.dayofweek  # optional: 0 = Monday, 6 = Sunday"
   ]
  },
  {
   "cell_type": "code",
   "execution_count": null,
   "id": "c86ee347",
   "metadata": {},
   "outputs": [],
   "source": [
    "order = [\n",
    "    'year', 'month', 'day', 'hour', 'date', 'dayofweek',\n",
    "    'city', 'population', 'offense_category_name', 'location_area'\n",
    "]\n",
    "\n",
    "df = df[order]\n"
   ]
  },
  {
   "cell_type": "code",
   "execution_count": 21,
   "id": "25a31b08",
   "metadata": {},
   "outputs": [],
   "source": [
    "df.to_csv(\"combined_data.csv\", index=False)"
   ]
  },
  {
   "cell_type": "code",
   "execution_count": 22,
   "id": "34edfedf",
   "metadata": {},
   "outputs": [
    {
     "name": "stdout",
     "output_type": "stream",
     "text": [
      "380303\n"
     ]
    }
   ],
   "source": [
    "print(len(df))"
   ]
  }
 ],
 "metadata": {
  "kernelspec": {
   "display_name": "Python (nyc)",
   "language": "python",
   "name": "nyc"
  },
  "language_info": {
   "codemirror_mode": {
    "name": "ipython",
    "version": 3
   },
   "file_extension": ".py",
   "mimetype": "text/x-python",
   "name": "python",
   "nbconvert_exporter": "python",
   "pygments_lexer": "ipython3",
   "version": "3.11.11"
  }
 },
 "nbformat": 4,
 "nbformat_minor": 5
}
