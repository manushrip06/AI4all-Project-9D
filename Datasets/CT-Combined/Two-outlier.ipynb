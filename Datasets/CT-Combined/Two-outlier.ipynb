{
 "cells": [
  {
   "cell_type": "code",
   "execution_count": 12,
   "id": "a3a1fb2f",
   "metadata": {},
   "outputs": [],
   "source": [
    "import pandas as pd\n",
    "from scipy.stats import zscore\n",
    "import numpy as np\n",
    "\n",
    "df = pd.read_csv(\"combined_data.csv\")"
   ]
  },
  {
   "cell_type": "code",
   "execution_count": 13,
   "id": "dce9e85b",
   "metadata": {},
   "outputs": [
    {
     "name": "stdout",
     "output_type": "stream",
     "text": [
      "year\n",
      "month\n",
      "day\n",
      "hour\n",
      "date\n",
      "dayofweek\n",
      "city\n",
      "population\n",
      "offense_category_name\n",
      "location_area\n"
     ]
    }
   ],
   "source": [
    "columns = df.columns.tolist()\n",
    "for i in columns:\n",
    "    print(i)"
   ]
  },
  {
   "cell_type": "code",
   "execution_count": 14,
   "id": "a7346310",
   "metadata": {},
   "outputs": [
    {
     "data": {
      "text/plain": [
       "count                     380303\n",
       "unique                        24\n",
       "top       Larceny/Theft Offenses\n",
       "freq                      124962\n",
       "Name: offense_category_name, dtype: object"
      ]
     },
     "execution_count": 14,
     "metadata": {},
     "output_type": "execute_result"
    }
   ],
   "source": [
    "df['offense_category_name'].describe()"
   ]
  },
  {
   "cell_type": "code",
   "execution_count": null,
   "id": "0d5be22d",
   "metadata": {},
   "outputs": [],
   "source": []
  },
  {
   "cell_type": "code",
   "execution_count": 15,
   "id": "4cca79e9",
   "metadata": {},
   "outputs": [],
   "source": [
    "features_considered = ['year','hour', 'population']\n",
    "z_scores = zscore(df[features_considered], nan_policy='omit')"
   ]
  },
  {
   "cell_type": "markdown",
   "id": "b6e62f96",
   "metadata": {},
   "source": []
  },
  {
   "cell_type": "code",
   "execution_count": 16,
   "id": "d494da5c",
   "metadata": {},
   "outputs": [],
   "source": [
    "z_scores_df = pd.DataFrame(z_scores, columns=features_considered)\n"
   ]
  },
  {
   "cell_type": "code",
   "execution_count": 17,
   "id": "f9802f5d",
   "metadata": {},
   "outputs": [
    {
     "data": {
      "text/html": [
       "<div>\n",
       "<style scoped>\n",
       "    .dataframe tbody tr th:only-of-type {\n",
       "        vertical-align: middle;\n",
       "    }\n",
       "\n",
       "    .dataframe tbody tr th {\n",
       "        vertical-align: top;\n",
       "    }\n",
       "\n",
       "    .dataframe thead th {\n",
       "        text-align: right;\n",
       "    }\n",
       "</style>\n",
       "<table border=\"1\" class=\"dataframe\">\n",
       "  <thead>\n",
       "    <tr style=\"text-align: right;\">\n",
       "      <th></th>\n",
       "      <th>year</th>\n",
       "      <th>hour</th>\n",
       "      <th>population</th>\n",
       "    </tr>\n",
       "  </thead>\n",
       "  <tbody>\n",
       "    <tr>\n",
       "      <th>0</th>\n",
       "      <td>-0.037116</td>\n",
       "      <td>0.053919</td>\n",
       "      <td>-0.743424</td>\n",
       "    </tr>\n",
       "    <tr>\n",
       "      <th>1</th>\n",
       "      <td>-0.037116</td>\n",
       "      <td>1.232623</td>\n",
       "      <td>-0.524328</td>\n",
       "    </tr>\n",
       "    <tr>\n",
       "      <th>2</th>\n",
       "      <td>-0.037116</td>\n",
       "      <td>1.232623</td>\n",
       "      <td>-0.524328</td>\n",
       "    </tr>\n",
       "    <tr>\n",
       "      <th>3</th>\n",
       "      <td>-0.037116</td>\n",
       "      <td>1.232623</td>\n",
       "      <td>-0.524328</td>\n",
       "    </tr>\n",
       "    <tr>\n",
       "      <th>4</th>\n",
       "      <td>-0.037116</td>\n",
       "      <td>0.053919</td>\n",
       "      <td>0.662834</td>\n",
       "    </tr>\n",
       "  </tbody>\n",
       "</table>\n",
       "</div>"
      ],
      "text/plain": [
       "       year      hour  population\n",
       "0 -0.037116  0.053919   -0.743424\n",
       "1 -0.037116  1.232623   -0.524328\n",
       "2 -0.037116  1.232623   -0.524328\n",
       "3 -0.037116  1.232623   -0.524328\n",
       "4 -0.037116  0.053919    0.662834"
      ]
     },
     "execution_count": 17,
     "metadata": {},
     "output_type": "execute_result"
    }
   ],
   "source": [
    "z_scores_df.head()"
   ]
  },
  {
   "cell_type": "code",
   "execution_count": 18,
   "id": "de30c165",
   "metadata": {},
   "outputs": [],
   "source": [
    "# convert to absolute values\n",
    "abs_z_scores = np.abs(z_scores)\n",
    "# filter based on |z-score| less than 3\n",
    "filtered_entries = (abs_z_scores < 3).all(axis=1) & df['offense_category_name'].notna()\n"
   ]
  },
  {
   "cell_type": "code",
   "execution_count": 19,
   "id": "34f8b9d5",
   "metadata": {},
   "outputs": [
    {
     "data": {
      "text/plain": [
       "0         True\n",
       "1         True\n",
       "2         True\n",
       "3         True\n",
       "4         True\n",
       "          ... \n",
       "380298    True\n",
       "380299    True\n",
       "380300    True\n",
       "380301    True\n",
       "380302    True\n",
       "Name: offense_category_name, Length: 380303, dtype: bool"
      ]
     },
     "execution_count": 19,
     "metadata": {},
     "output_type": "execute_result"
    }
   ],
   "source": [
    "filtered_entries"
   ]
  },
  {
   "cell_type": "code",
   "execution_count": 20,
   "id": "f800637a",
   "metadata": {},
   "outputs": [
    {
     "name": "stdout",
     "output_type": "stream",
     "text": [
      "Number of outliers: 13313\n",
      "        year  month  day  hour        date  dayofweek  \\\n",
      "48      2022      9   29    14  2022-09-29          3   \n",
      "58      2022     11    6     8  2022-11-06          6   \n",
      "84      2022      6    3    14  2022-06-03          4   \n",
      "87      2022      8    4     5  2022-08-04          3   \n",
      "92      2022      9    9    21  2022-09-09          4   \n",
      "...      ...    ...  ...   ...         ...        ...   \n",
      "380137  2021     11   24    21  2021-11-24          2   \n",
      "380140  2021     12   22     9  2021-12-22          2   \n",
      "380247  2021      8   25    12  2021-08-25          2   \n",
      "380253  2021     11   13     0  2021-11-13          5   \n",
      "380261  2021     12   14    11  2021-12-14          1   \n",
      "\n",
      "                            city  population   offense_category_name  \\\n",
      "48      Connecticut State Police      509306            Sex Offenses   \n",
      "58      Connecticut State Police      509306                   Arson   \n",
      "84      Connecticut State Police      509306   Weapon Law Violations   \n",
      "87      Connecticut State Police      509306   Weapon Law Violations   \n",
      "92      Connecticut State Police      509306   Weapon Law Violations   \n",
      "...                          ...         ...                     ...   \n",
      "380137  Connecticut State Police      543228        Assault Offenses   \n",
      "380140  Connecticut State Police      543228  Larceny/Theft Offenses   \n",
      "380247  Connecticut State Police      543228  Larceny/Theft Offenses   \n",
      "380253  Connecticut State Police      543228            Sex Offenses   \n",
      "380261  Connecticut State Police      543228            Embezzlement   \n",
      "\n",
      "                        location_area  \n",
      "48      Abandoned/Condemned Structure  \n",
      "58      Abandoned/Condemned Structure  \n",
      "84             Air/Bus/Train Terminal  \n",
      "87             Air/Bus/Train Terminal  \n",
      "92             Air/Bus/Train Terminal  \n",
      "...                               ...  \n",
      "380137                  Other/Unknown  \n",
      "380140                  Other/Unknown  \n",
      "380247                  Other/Unknown  \n",
      "380253                  Other/Unknown  \n",
      "380261                  Other/Unknown  \n",
      "\n",
      "[13313 rows x 10 columns]\n"
     ]
    }
   ],
   "source": [
    "print(\"Number of outliers:\", (~filtered_entries).sum())\n",
    "print(df.loc[~filtered_entries])\n"
   ]
  },
  {
   "cell_type": "code",
   "execution_count": 21,
   "id": "de13051d",
   "metadata": {},
   "outputs": [
    {
     "name": "stdout",
     "output_type": "stream",
     "text": [
      "Number of rows before filtering outliers 380303\n",
      "Number of rows after filtering outliers 366990\n"
     ]
    },
    {
     "data": {
      "text/html": [
       "<div>\n",
       "<style scoped>\n",
       "    .dataframe tbody tr th:only-of-type {\n",
       "        vertical-align: middle;\n",
       "    }\n",
       "\n",
       "    .dataframe tbody tr th {\n",
       "        vertical-align: top;\n",
       "    }\n",
       "\n",
       "    .dataframe thead th {\n",
       "        text-align: right;\n",
       "    }\n",
       "</style>\n",
       "<table border=\"1\" class=\"dataframe\">\n",
       "  <thead>\n",
       "    <tr style=\"text-align: right;\">\n",
       "      <th></th>\n",
       "      <th>year</th>\n",
       "      <th>month</th>\n",
       "      <th>day</th>\n",
       "      <th>hour</th>\n",
       "      <th>date</th>\n",
       "      <th>dayofweek</th>\n",
       "      <th>city</th>\n",
       "      <th>population</th>\n",
       "      <th>offense_category_name</th>\n",
       "      <th>location_area</th>\n",
       "    </tr>\n",
       "  </thead>\n",
       "  <tbody>\n",
       "    <tr>\n",
       "      <th>0</th>\n",
       "      <td>2022</td>\n",
       "      <td>9</td>\n",
       "      <td>22</td>\n",
       "      <td>13</td>\n",
       "      <td>2022-09-22</td>\n",
       "      <td>3</td>\n",
       "      <td>Berlin</td>\n",
       "      <td>20109</td>\n",
       "      <td>Drug/Narcotic Offenses</td>\n",
       "      <td>Abandoned/Condemned Structure</td>\n",
       "    </tr>\n",
       "    <tr>\n",
       "      <th>1</th>\n",
       "      <td>2022</td>\n",
       "      <td>6</td>\n",
       "      <td>4</td>\n",
       "      <td>20</td>\n",
       "      <td>2022-06-04</td>\n",
       "      <td>5</td>\n",
       "      <td>Norwich</td>\n",
       "      <td>40096</td>\n",
       "      <td>Weapon Law Violations</td>\n",
       "      <td>Abandoned/Condemned Structure</td>\n",
       "    </tr>\n",
       "    <tr>\n",
       "      <th>2</th>\n",
       "      <td>2022</td>\n",
       "      <td>7</td>\n",
       "      <td>10</td>\n",
       "      <td>20</td>\n",
       "      <td>2022-07-10</td>\n",
       "      <td>6</td>\n",
       "      <td>Norwich</td>\n",
       "      <td>40096</td>\n",
       "      <td>Drug/Narcotic Offenses</td>\n",
       "      <td>Abandoned/Condemned Structure</td>\n",
       "    </tr>\n",
       "    <tr>\n",
       "      <th>3</th>\n",
       "      <td>2022</td>\n",
       "      <td>7</td>\n",
       "      <td>10</td>\n",
       "      <td>20</td>\n",
       "      <td>2022-07-10</td>\n",
       "      <td>6</td>\n",
       "      <td>Norwich</td>\n",
       "      <td>40096</td>\n",
       "      <td>Drug/Narcotic Offenses</td>\n",
       "      <td>Abandoned/Condemned Structure</td>\n",
       "    </tr>\n",
       "    <tr>\n",
       "      <th>4</th>\n",
       "      <td>2022</td>\n",
       "      <td>10</td>\n",
       "      <td>14</td>\n",
       "      <td>13</td>\n",
       "      <td>2022-10-14</td>\n",
       "      <td>4</td>\n",
       "      <td>Bridgeport</td>\n",
       "      <td>148395</td>\n",
       "      <td>Drug/Narcotic Offenses</td>\n",
       "      <td>Abandoned/Condemned Structure</td>\n",
       "    </tr>\n",
       "  </tbody>\n",
       "</table>\n",
       "</div>"
      ],
      "text/plain": [
       "   year  month  day  hour        date  dayofweek        city  population  \\\n",
       "0  2022      9   22    13  2022-09-22          3      Berlin       20109   \n",
       "1  2022      6    4    20  2022-06-04          5     Norwich       40096   \n",
       "2  2022      7   10    20  2022-07-10          6     Norwich       40096   \n",
       "3  2022      7   10    20  2022-07-10          6     Norwich       40096   \n",
       "4  2022     10   14    13  2022-10-14          4  Bridgeport      148395   \n",
       "\n",
       "    offense_category_name                  location_area  \n",
       "0  Drug/Narcotic Offenses  Abandoned/Condemned Structure  \n",
       "1   Weapon Law Violations  Abandoned/Condemned Structure  \n",
       "2  Drug/Narcotic Offenses  Abandoned/Condemned Structure  \n",
       "3  Drug/Narcotic Offenses  Abandoned/Condemned Structure  \n",
       "4  Drug/Narcotic Offenses  Abandoned/Condemned Structure  "
      ]
     },
     "execution_count": 21,
     "metadata": {},
     "output_type": "execute_result"
    }
   ],
   "source": [
    "print('Number of rows before filtering outliers', len(df))\n",
    "df_without_outliers = df[filtered_entries]\n",
    "print('Number of rows after filtering outliers', len(df_without_outliers))\n",
    "df_without_outliers.head()"
   ]
  },
  {
   "cell_type": "code",
   "execution_count": 22,
   "id": "3f51c516",
   "metadata": {},
   "outputs": [
    {
     "data": {
      "text/plain": [
       "city\n",
       "Derby          1853\n",
       "New Haven      1692\n",
       "Hartford       1337\n",
       "New Britain     718\n",
       "Waterbury       681\n",
       "               ... \n",
       "Ridgefield        3\n",
       "Montville         2\n",
       "Weston            1\n",
       "Middlebury        1\n",
       "Madison           1\n",
       "Name: count, Length: 96, dtype: int64"
      ]
     },
     "execution_count": 22,
     "metadata": {},
     "output_type": "execute_result"
    }
   ],
   "source": [
    "df.loc[z_scores_df['hour'].abs() > 2]['city'].value_counts()\n"
   ]
  },
  {
   "cell_type": "code",
   "execution_count": 23,
   "id": "f57d3f99",
   "metadata": {},
   "outputs": [
    {
     "name": "stderr",
     "output_type": "stream",
     "text": [
      "/var/folders/wr/m4n58hhn34d1tgx1ny699h8h0000gn/T/ipykernel_69919/525856658.py:1: SettingWithCopyWarning: \n",
      "A value is trying to be set on a copy of a slice from a DataFrame\n",
      "\n",
      "See the caveats in the documentation: https://pandas.pydata.org/pandas-docs/stable/user_guide/indexing.html#returning-a-view-versus-a-copy\n",
      "  df_without_outliers.drop(columns=[\"population\"], inplace=True)\n"
     ]
    },
    {
     "name": "stdout",
     "output_type": "stream",
     "text": [
      "\n"
     ]
    }
   ],
   "source": [
    "df_without_outliers.drop(columns=[\"population\"], inplace=True)\n",
    "df_without_outliers.to_csv(\"combined_data.csv\", index=False)\n",
    "print()"
   ]
  },
  {
   "cell_type": "code",
   "execution_count": 24,
   "id": "33e07fd4",
   "metadata": {},
   "outputs": [
    {
     "data": {
      "text/html": [
       "<div>\n",
       "<style scoped>\n",
       "    .dataframe tbody tr th:only-of-type {\n",
       "        vertical-align: middle;\n",
       "    }\n",
       "\n",
       "    .dataframe tbody tr th {\n",
       "        vertical-align: top;\n",
       "    }\n",
       "\n",
       "    .dataframe thead th {\n",
       "        text-align: right;\n",
       "    }\n",
       "</style>\n",
       "<table border=\"1\" class=\"dataframe\">\n",
       "  <thead>\n",
       "    <tr style=\"text-align: right;\">\n",
       "      <th></th>\n",
       "      <th>year</th>\n",
       "      <th>month</th>\n",
       "      <th>day</th>\n",
       "      <th>hour</th>\n",
       "      <th>date</th>\n",
       "      <th>dayofweek</th>\n",
       "      <th>city</th>\n",
       "      <th>offense_category_name</th>\n",
       "      <th>location_area</th>\n",
       "    </tr>\n",
       "  </thead>\n",
       "  <tbody>\n",
       "    <tr>\n",
       "      <th>0</th>\n",
       "      <td>2022</td>\n",
       "      <td>9</td>\n",
       "      <td>22</td>\n",
       "      <td>13</td>\n",
       "      <td>2022-09-22</td>\n",
       "      <td>3</td>\n",
       "      <td>Berlin</td>\n",
       "      <td>Drug/Narcotic Offenses</td>\n",
       "      <td>Abandoned/Condemned Structure</td>\n",
       "    </tr>\n",
       "    <tr>\n",
       "      <th>1</th>\n",
       "      <td>2022</td>\n",
       "      <td>6</td>\n",
       "      <td>4</td>\n",
       "      <td>20</td>\n",
       "      <td>2022-06-04</td>\n",
       "      <td>5</td>\n",
       "      <td>Norwich</td>\n",
       "      <td>Weapon Law Violations</td>\n",
       "      <td>Abandoned/Condemned Structure</td>\n",
       "    </tr>\n",
       "    <tr>\n",
       "      <th>2</th>\n",
       "      <td>2022</td>\n",
       "      <td>7</td>\n",
       "      <td>10</td>\n",
       "      <td>20</td>\n",
       "      <td>2022-07-10</td>\n",
       "      <td>6</td>\n",
       "      <td>Norwich</td>\n",
       "      <td>Drug/Narcotic Offenses</td>\n",
       "      <td>Abandoned/Condemned Structure</td>\n",
       "    </tr>\n",
       "    <tr>\n",
       "      <th>3</th>\n",
       "      <td>2022</td>\n",
       "      <td>7</td>\n",
       "      <td>10</td>\n",
       "      <td>20</td>\n",
       "      <td>2022-07-10</td>\n",
       "      <td>6</td>\n",
       "      <td>Norwich</td>\n",
       "      <td>Drug/Narcotic Offenses</td>\n",
       "      <td>Abandoned/Condemned Structure</td>\n",
       "    </tr>\n",
       "    <tr>\n",
       "      <th>4</th>\n",
       "      <td>2022</td>\n",
       "      <td>10</td>\n",
       "      <td>14</td>\n",
       "      <td>13</td>\n",
       "      <td>2022-10-14</td>\n",
       "      <td>4</td>\n",
       "      <td>Bridgeport</td>\n",
       "      <td>Drug/Narcotic Offenses</td>\n",
       "      <td>Abandoned/Condemned Structure</td>\n",
       "    </tr>\n",
       "    <tr>\n",
       "      <th>...</th>\n",
       "      <td>...</td>\n",
       "      <td>...</td>\n",
       "      <td>...</td>\n",
       "      <td>...</td>\n",
       "      <td>...</td>\n",
       "      <td>...</td>\n",
       "      <td>...</td>\n",
       "      <td>...</td>\n",
       "      <td>...</td>\n",
       "    </tr>\n",
       "    <tr>\n",
       "      <th>380298</th>\n",
       "      <td>2021</td>\n",
       "      <td>3</td>\n",
       "      <td>13</td>\n",
       "      <td>16</td>\n",
       "      <td>2021-03-13</td>\n",
       "      <td>5</td>\n",
       "      <td>Stratford</td>\n",
       "      <td>Assault Offenses</td>\n",
       "      <td>Other/Unknown</td>\n",
       "    </tr>\n",
       "    <tr>\n",
       "      <th>380299</th>\n",
       "      <td>2021</td>\n",
       "      <td>9</td>\n",
       "      <td>5</td>\n",
       "      <td>17</td>\n",
       "      <td>2021-09-05</td>\n",
       "      <td>6</td>\n",
       "      <td>Stratford</td>\n",
       "      <td>Assault Offenses</td>\n",
       "      <td>Other/Unknown</td>\n",
       "    </tr>\n",
       "    <tr>\n",
       "      <th>380300</th>\n",
       "      <td>2021</td>\n",
       "      <td>12</td>\n",
       "      <td>3</td>\n",
       "      <td>14</td>\n",
       "      <td>2021-12-03</td>\n",
       "      <td>4</td>\n",
       "      <td>Stratford</td>\n",
       "      <td>Larceny/Theft Offenses</td>\n",
       "      <td>Other/Unknown</td>\n",
       "    </tr>\n",
       "    <tr>\n",
       "      <th>380301</th>\n",
       "      <td>2021</td>\n",
       "      <td>10</td>\n",
       "      <td>27</td>\n",
       "      <td>11</td>\n",
       "      <td>2021-10-27</td>\n",
       "      <td>2</td>\n",
       "      <td>Stratford</td>\n",
       "      <td>Larceny/Theft Offenses</td>\n",
       "      <td>Other/Unknown</td>\n",
       "    </tr>\n",
       "    <tr>\n",
       "      <th>380302</th>\n",
       "      <td>2021</td>\n",
       "      <td>10</td>\n",
       "      <td>21</td>\n",
       "      <td>11</td>\n",
       "      <td>2021-10-21</td>\n",
       "      <td>3</td>\n",
       "      <td>Stratford</td>\n",
       "      <td>Sex Offenses, Non-forcible</td>\n",
       "      <td>Other/Unknown</td>\n",
       "    </tr>\n",
       "  </tbody>\n",
       "</table>\n",
       "<p>366990 rows × 9 columns</p>\n",
       "</div>"
      ],
      "text/plain": [
       "        year  month  day  hour        date  dayofweek        city  \\\n",
       "0       2022      9   22    13  2022-09-22          3      Berlin   \n",
       "1       2022      6    4    20  2022-06-04          5     Norwich   \n",
       "2       2022      7   10    20  2022-07-10          6     Norwich   \n",
       "3       2022      7   10    20  2022-07-10          6     Norwich   \n",
       "4       2022     10   14    13  2022-10-14          4  Bridgeport   \n",
       "...      ...    ...  ...   ...         ...        ...         ...   \n",
       "380298  2021      3   13    16  2021-03-13          5   Stratford   \n",
       "380299  2021      9    5    17  2021-09-05          6   Stratford   \n",
       "380300  2021     12    3    14  2021-12-03          4   Stratford   \n",
       "380301  2021     10   27    11  2021-10-27          2   Stratford   \n",
       "380302  2021     10   21    11  2021-10-21          3   Stratford   \n",
       "\n",
       "             offense_category_name                  location_area  \n",
       "0           Drug/Narcotic Offenses  Abandoned/Condemned Structure  \n",
       "1            Weapon Law Violations  Abandoned/Condemned Structure  \n",
       "2           Drug/Narcotic Offenses  Abandoned/Condemned Structure  \n",
       "3           Drug/Narcotic Offenses  Abandoned/Condemned Structure  \n",
       "4           Drug/Narcotic Offenses  Abandoned/Condemned Structure  \n",
       "...                            ...                            ...  \n",
       "380298            Assault Offenses                  Other/Unknown  \n",
       "380299            Assault Offenses                  Other/Unknown  \n",
       "380300      Larceny/Theft Offenses                  Other/Unknown  \n",
       "380301      Larceny/Theft Offenses                  Other/Unknown  \n",
       "380302  Sex Offenses, Non-forcible                  Other/Unknown  \n",
       "\n",
       "[366990 rows x 9 columns]"
      ]
     },
     "execution_count": 24,
     "metadata": {},
     "output_type": "execute_result"
    }
   ],
   "source": [
    "df_without_outliers"
   ]
  },
  {
   "cell_type": "code",
   "execution_count": null,
   "id": "302b8e86",
   "metadata": {},
   "outputs": [],
   "source": [
    "print(len(df_without_outliers))"
   ]
  }
 ],
 "metadata": {
  "kernelspec": {
   "display_name": "Python (nyc)",
   "language": "python",
   "name": "nyc"
  },
  "language_info": {
   "codemirror_mode": {
    "name": "ipython",
    "version": 3
   },
   "file_extension": ".py",
   "mimetype": "text/x-python",
   "name": "python",
   "nbconvert_exporter": "python",
   "pygments_lexer": "ipython3",
   "version": "3.11.11"
  }
 },
 "nbformat": 4,
 "nbformat_minor": 5
}
